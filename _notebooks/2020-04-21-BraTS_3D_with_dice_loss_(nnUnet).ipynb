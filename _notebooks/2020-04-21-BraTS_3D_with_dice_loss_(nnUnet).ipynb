{
  "nbformat": 4,
  "nbformat_minor": 0,
  "metadata": {
    "colab": {
      "name": "BraTS 3D  with dice loss (nnUnet)",
      "provenance": [],
      "collapsed_sections": [],
      "toc_visible": true
    },
    "kernelspec": {
      "name": "python3",
      "display_name": "Python 3"
    },
    "accelerator": "GPU",
    "widgets": {
      "application/vnd.jupyter.widget-state+json": {
        "4dc77eb57457480588401ba15acd5993": {
          "model_module": "@jupyter-widgets/controls",
          "model_name": "HBoxModel",
          "state": {
            "_view_name": "HBoxView",
            "_dom_classes": [],
            "_model_name": "HBoxModel",
            "_view_module": "@jupyter-widgets/controls",
            "_model_module_version": "1.5.0",
            "_view_count": null,
            "_view_module_version": "1.5.0",
            "box_style": "",
            "layout": "IPY_MODEL_2d736bbda71a4e3999e674116e0fb3d6",
            "_model_module": "@jupyter-widgets/controls",
            "children": [
              "IPY_MODEL_7133a517c6b84e7e878e8f753577787f",
              "IPY_MODEL_7ee0920aa5014554bb782395ad95e79a"
            ]
          }
        },
        "2d736bbda71a4e3999e674116e0fb3d6": {
          "model_module": "@jupyter-widgets/base",
          "model_name": "LayoutModel",
          "state": {
            "_view_name": "LayoutView",
            "grid_template_rows": null,
            "right": null,
            "justify_content": null,
            "_view_module": "@jupyter-widgets/base",
            "overflow": null,
            "_model_module_version": "1.2.0",
            "_view_count": null,
            "flex_flow": null,
            "width": null,
            "min_width": null,
            "border": null,
            "align_items": null,
            "bottom": null,
            "_model_module": "@jupyter-widgets/base",
            "top": null,
            "grid_column": null,
            "overflow_y": null,
            "overflow_x": null,
            "grid_auto_flow": null,
            "grid_area": null,
            "grid_template_columns": null,
            "flex": null,
            "_model_name": "LayoutModel",
            "justify_items": null,
            "grid_row": null,
            "max_height": null,
            "align_content": null,
            "visibility": null,
            "align_self": null,
            "height": null,
            "min_height": null,
            "padding": null,
            "grid_auto_rows": null,
            "grid_gap": null,
            "max_width": null,
            "order": null,
            "_view_module_version": "1.2.0",
            "grid_template_areas": null,
            "object_position": null,
            "object_fit": null,
            "grid_auto_columns": null,
            "margin": null,
            "display": null,
            "left": null
          }
        },
        "7133a517c6b84e7e878e8f753577787f": {
          "model_module": "@jupyter-widgets/controls",
          "model_name": "IntProgressModel",
          "state": {
            "_view_name": "ProgressView",
            "style": "IPY_MODEL_9bc51b9001c04aaead308765d0f058f9",
            "_dom_classes": [],
            "description": "100%",
            "_model_name": "IntProgressModel",
            "bar_style": "success",
            "max": 1,
            "_view_module": "@jupyter-widgets/controls",
            "_model_module_version": "1.5.0",
            "value": 1,
            "_view_count": null,
            "_view_module_version": "1.5.0",
            "orientation": "horizontal",
            "min": 0,
            "description_tooltip": null,
            "_model_module": "@jupyter-widgets/controls",
            "layout": "IPY_MODEL_a9c7f218dd794372b7e7b7eb40457db3"
          }
        },
        "7ee0920aa5014554bb782395ad95e79a": {
          "model_module": "@jupyter-widgets/controls",
          "model_name": "HTMLModel",
          "state": {
            "_view_name": "HTMLView",
            "style": "IPY_MODEL_fbc2db6c2af044d8b9da527316cf9866",
            "_dom_classes": [],
            "description": "",
            "_model_name": "HTMLModel",
            "placeholder": "​",
            "_view_module": "@jupyter-widgets/controls",
            "_model_module_version": "1.5.0",
            "value": " 1/1 [15:24&lt;00:00, 924.71s/it]",
            "_view_count": null,
            "_view_module_version": "1.5.0",
            "description_tooltip": null,
            "_model_module": "@jupyter-widgets/controls",
            "layout": "IPY_MODEL_67628bb0cbb44616a6b4502b616f678e"
          }
        },
        "9bc51b9001c04aaead308765d0f058f9": {
          "model_module": "@jupyter-widgets/controls",
          "model_name": "ProgressStyleModel",
          "state": {
            "_view_name": "StyleView",
            "_model_name": "ProgressStyleModel",
            "description_width": "initial",
            "_view_module": "@jupyter-widgets/base",
            "_model_module_version": "1.5.0",
            "_view_count": null,
            "_view_module_version": "1.2.0",
            "bar_color": null,
            "_model_module": "@jupyter-widgets/controls"
          }
        },
        "a9c7f218dd794372b7e7b7eb40457db3": {
          "model_module": "@jupyter-widgets/base",
          "model_name": "LayoutModel",
          "state": {
            "_view_name": "LayoutView",
            "grid_template_rows": null,
            "right": null,
            "justify_content": null,
            "_view_module": "@jupyter-widgets/base",
            "overflow": null,
            "_model_module_version": "1.2.0",
            "_view_count": null,
            "flex_flow": null,
            "width": null,
            "min_width": null,
            "border": null,
            "align_items": null,
            "bottom": null,
            "_model_module": "@jupyter-widgets/base",
            "top": null,
            "grid_column": null,
            "overflow_y": null,
            "overflow_x": null,
            "grid_auto_flow": null,
            "grid_area": null,
            "grid_template_columns": null,
            "flex": null,
            "_model_name": "LayoutModel",
            "justify_items": null,
            "grid_row": null,
            "max_height": null,
            "align_content": null,
            "visibility": null,
            "align_self": null,
            "height": null,
            "min_height": null,
            "padding": null,
            "grid_auto_rows": null,
            "grid_gap": null,
            "max_width": null,
            "order": null,
            "_view_module_version": "1.2.0",
            "grid_template_areas": null,
            "object_position": null,
            "object_fit": null,
            "grid_auto_columns": null,
            "margin": null,
            "display": null,
            "left": null
          }
        },
        "fbc2db6c2af044d8b9da527316cf9866": {
          "model_module": "@jupyter-widgets/controls",
          "model_name": "DescriptionStyleModel",
          "state": {
            "_view_name": "StyleView",
            "_model_name": "DescriptionStyleModel",
            "description_width": "",
            "_view_module": "@jupyter-widgets/base",
            "_model_module_version": "1.5.0",
            "_view_count": null,
            "_view_module_version": "1.2.0",
            "_model_module": "@jupyter-widgets/controls"
          }
        },
        "67628bb0cbb44616a6b4502b616f678e": {
          "model_module": "@jupyter-widgets/base",
          "model_name": "LayoutModel",
          "state": {
            "_view_name": "LayoutView",
            "grid_template_rows": null,
            "right": null,
            "justify_content": null,
            "_view_module": "@jupyter-widgets/base",
            "overflow": null,
            "_model_module_version": "1.2.0",
            "_view_count": null,
            "flex_flow": null,
            "width": null,
            "min_width": null,
            "border": null,
            "align_items": null,
            "bottom": null,
            "_model_module": "@jupyter-widgets/base",
            "top": null,
            "grid_column": null,
            "overflow_y": null,
            "overflow_x": null,
            "grid_auto_flow": null,
            "grid_area": null,
            "grid_template_columns": null,
            "flex": null,
            "_model_name": "LayoutModel",
            "justify_items": null,
            "grid_row": null,
            "max_height": null,
            "align_content": null,
            "visibility": null,
            "align_self": null,
            "height": null,
            "min_height": null,
            "padding": null,
            "grid_auto_rows": null,
            "grid_gap": null,
            "max_width": null,
            "order": null,
            "_view_module_version": "1.2.0",
            "grid_template_areas": null,
            "object_position": null,
            "object_fit": null,
            "grid_auto_columns": null,
            "margin": null,
            "display": null,
            "left": null
          }
        },
        "0f3bbdf39bbd4d2499490542b4128d56": {
          "model_module": "@jupyter-widgets/controls",
          "model_name": "HBoxModel",
          "state": {
            "_view_name": "HBoxView",
            "_dom_classes": [],
            "_model_name": "HBoxModel",
            "_view_module": "@jupyter-widgets/controls",
            "_model_module_version": "1.5.0",
            "_view_count": null,
            "_view_module_version": "1.5.0",
            "box_style": "",
            "layout": "IPY_MODEL_1961aad29b81417ab8c94c3c28dff992",
            "_model_module": "@jupyter-widgets/controls",
            "children": [
              "IPY_MODEL_9fc6e020c174419899f6bc9a90ef248f",
              "IPY_MODEL_d8778e9990134da68c146add256181bd"
            ]
          }
        },
        "1961aad29b81417ab8c94c3c28dff992": {
          "model_module": "@jupyter-widgets/base",
          "model_name": "LayoutModel",
          "state": {
            "_view_name": "LayoutView",
            "grid_template_rows": null,
            "right": null,
            "justify_content": null,
            "_view_module": "@jupyter-widgets/base",
            "overflow": null,
            "_model_module_version": "1.2.0",
            "_view_count": null,
            "flex_flow": null,
            "width": null,
            "min_width": null,
            "border": null,
            "align_items": null,
            "bottom": null,
            "_model_module": "@jupyter-widgets/base",
            "top": null,
            "grid_column": null,
            "overflow_y": null,
            "overflow_x": null,
            "grid_auto_flow": null,
            "grid_area": null,
            "grid_template_columns": null,
            "flex": null,
            "_model_name": "LayoutModel",
            "justify_items": null,
            "grid_row": null,
            "max_height": null,
            "align_content": null,
            "visibility": null,
            "align_self": null,
            "height": null,
            "min_height": null,
            "padding": null,
            "grid_auto_rows": null,
            "grid_gap": null,
            "max_width": null,
            "order": null,
            "_view_module_version": "1.2.0",
            "grid_template_areas": null,
            "object_position": null,
            "object_fit": null,
            "grid_auto_columns": null,
            "margin": null,
            "display": null,
            "left": null
          }
        },
        "9fc6e020c174419899f6bc9a90ef248f": {
          "model_module": "@jupyter-widgets/controls",
          "model_name": "IntProgressModel",
          "state": {
            "_view_name": "ProgressView",
            "style": "IPY_MODEL_b468b5b2c054445ebaaadce412d204c3",
            "_dom_classes": [],
            "description": "Loss = 0.2754, 0.4342: 100%",
            "_model_name": "IntProgressModel",
            "bar_style": "success",
            "max": 500,
            "_view_module": "@jupyter-widgets/controls",
            "_model_module_version": "1.5.0",
            "value": 500,
            "_view_count": null,
            "_view_module_version": "1.5.0",
            "orientation": "horizontal",
            "min": 0,
            "description_tooltip": null,
            "_model_module": "@jupyter-widgets/controls",
            "layout": "IPY_MODEL_0ca6f41133644fd5a61cb72c23355bc3"
          }
        },
        "d8778e9990134da68c146add256181bd": {
          "model_module": "@jupyter-widgets/controls",
          "model_name": "HTMLModel",
          "state": {
            "_view_name": "HTMLView",
            "style": "IPY_MODEL_62da93d15f8c411fbef9003620efbb17",
            "_dom_classes": [],
            "description": "",
            "_model_name": "HTMLModel",
            "placeholder": "​",
            "_view_module": "@jupyter-widgets/controls",
            "_model_module_version": "1.5.0",
            "value": " 500/500 [15:24&lt;00:00,  1.85s/it]",
            "_view_count": null,
            "_view_module_version": "1.5.0",
            "description_tooltip": null,
            "_model_module": "@jupyter-widgets/controls",
            "layout": "IPY_MODEL_6081b5a0c8f24ab78ee92c5515c6848a"
          }
        },
        "b468b5b2c054445ebaaadce412d204c3": {
          "model_module": "@jupyter-widgets/controls",
          "model_name": "ProgressStyleModel",
          "state": {
            "_view_name": "StyleView",
            "_model_name": "ProgressStyleModel",
            "description_width": "initial",
            "_view_module": "@jupyter-widgets/base",
            "_model_module_version": "1.5.0",
            "_view_count": null,
            "_view_module_version": "1.2.0",
            "bar_color": null,
            "_model_module": "@jupyter-widgets/controls"
          }
        },
        "0ca6f41133644fd5a61cb72c23355bc3": {
          "model_module": "@jupyter-widgets/base",
          "model_name": "LayoutModel",
          "state": {
            "_view_name": "LayoutView",
            "grid_template_rows": null,
            "right": null,
            "justify_content": null,
            "_view_module": "@jupyter-widgets/base",
            "overflow": null,
            "_model_module_version": "1.2.0",
            "_view_count": null,
            "flex_flow": null,
            "width": null,
            "min_width": null,
            "border": null,
            "align_items": null,
            "bottom": null,
            "_model_module": "@jupyter-widgets/base",
            "top": null,
            "grid_column": null,
            "overflow_y": null,
            "overflow_x": null,
            "grid_auto_flow": null,
            "grid_area": null,
            "grid_template_columns": null,
            "flex": null,
            "_model_name": "LayoutModel",
            "justify_items": null,
            "grid_row": null,
            "max_height": null,
            "align_content": null,
            "visibility": null,
            "align_self": null,
            "height": null,
            "min_height": null,
            "padding": null,
            "grid_auto_rows": null,
            "grid_gap": null,
            "max_width": null,
            "order": null,
            "_view_module_version": "1.2.0",
            "grid_template_areas": null,
            "object_position": null,
            "object_fit": null,
            "grid_auto_columns": null,
            "margin": null,
            "display": null,
            "left": null
          }
        },
        "62da93d15f8c411fbef9003620efbb17": {
          "model_module": "@jupyter-widgets/controls",
          "model_name": "DescriptionStyleModel",
          "state": {
            "_view_name": "StyleView",
            "_model_name": "DescriptionStyleModel",
            "description_width": "",
            "_view_module": "@jupyter-widgets/base",
            "_model_module_version": "1.5.0",
            "_view_count": null,
            "_view_module_version": "1.2.0",
            "_model_module": "@jupyter-widgets/controls"
          }
        },
        "6081b5a0c8f24ab78ee92c5515c6848a": {
          "model_module": "@jupyter-widgets/base",
          "model_name": "LayoutModel",
          "state": {
            "_view_name": "LayoutView",
            "grid_template_rows": null,
            "right": null,
            "justify_content": null,
            "_view_module": "@jupyter-widgets/base",
            "overflow": null,
            "_model_module_version": "1.2.0",
            "_view_count": null,
            "flex_flow": null,
            "width": null,
            "min_width": null,
            "border": null,
            "align_items": null,
            "bottom": null,
            "_model_module": "@jupyter-widgets/base",
            "top": null,
            "grid_column": null,
            "overflow_y": null,
            "overflow_x": null,
            "grid_auto_flow": null,
            "grid_area": null,
            "grid_template_columns": null,
            "flex": null,
            "_model_name": "LayoutModel",
            "justify_items": null,
            "grid_row": null,
            "max_height": null,
            "align_content": null,
            "visibility": null,
            "align_self": null,
            "height": null,
            "min_height": null,
            "padding": null,
            "grid_auto_rows": null,
            "grid_gap": null,
            "max_width": null,
            "order": null,
            "_view_module_version": "1.2.0",
            "grid_template_areas": null,
            "object_position": null,
            "object_fit": null,
            "grid_auto_columns": null,
            "margin": null,
            "display": null,
            "left": null
          }
        },
        "68efc454ac4f47bdacc731d5129c9f0c": {
          "model_module": "@jupyter-widgets/controls",
          "model_name": "HBoxModel",
          "state": {
            "_view_name": "HBoxView",
            "_dom_classes": [],
            "_model_name": "HBoxModel",
            "_view_module": "@jupyter-widgets/controls",
            "_model_module_version": "1.5.0",
            "_view_count": null,
            "_view_module_version": "1.5.0",
            "box_style": "",
            "layout": "IPY_MODEL_50a4a5ab89d742ca84fddea28bdfb3a6",
            "_model_module": "@jupyter-widgets/controls",
            "children": [
              "IPY_MODEL_dea36a38f5484b23bd5d41a4701853a6",
              "IPY_MODEL_323fb17f5f4a47088ce9938da0de49a2"
            ]
          }
        },
        "50a4a5ab89d742ca84fddea28bdfb3a6": {
          "model_module": "@jupyter-widgets/base",
          "model_name": "LayoutModel",
          "state": {
            "_view_name": "LayoutView",
            "grid_template_rows": null,
            "right": null,
            "justify_content": null,
            "_view_module": "@jupyter-widgets/base",
            "overflow": null,
            "_model_module_version": "1.2.0",
            "_view_count": null,
            "flex_flow": null,
            "width": null,
            "min_width": null,
            "border": null,
            "align_items": null,
            "bottom": null,
            "_model_module": "@jupyter-widgets/base",
            "top": null,
            "grid_column": null,
            "overflow_y": null,
            "overflow_x": null,
            "grid_auto_flow": null,
            "grid_area": null,
            "grid_template_columns": null,
            "flex": null,
            "_model_name": "LayoutModel",
            "justify_items": null,
            "grid_row": null,
            "max_height": null,
            "align_content": null,
            "visibility": null,
            "align_self": null,
            "height": null,
            "min_height": null,
            "padding": null,
            "grid_auto_rows": null,
            "grid_gap": null,
            "max_width": null,
            "order": null,
            "_view_module_version": "1.2.0",
            "grid_template_areas": null,
            "object_position": null,
            "object_fit": null,
            "grid_auto_columns": null,
            "margin": null,
            "display": null,
            "left": null
          }
        },
        "dea36a38f5484b23bd5d41a4701853a6": {
          "model_module": "@jupyter-widgets/controls",
          "model_name": "IntProgressModel",
          "state": {
            "_view_name": "ProgressView",
            "style": "IPY_MODEL_cfb3e240ce144213937ea541344ae738",
            "_dom_classes": [],
            "description": " 75%",
            "_model_name": "IntProgressModel",
            "bar_style": "",
            "max": 4,
            "_view_module": "@jupyter-widgets/controls",
            "_model_module_version": "1.5.0",
            "value": 3,
            "_view_count": null,
            "_view_module_version": "1.5.0",
            "orientation": "horizontal",
            "min": 0,
            "description_tooltip": null,
            "_model_module": "@jupyter-widgets/controls",
            "layout": "IPY_MODEL_4435f6c9f50141cfb3b5e5c30dab1390"
          }
        },
        "323fb17f5f4a47088ce9938da0de49a2": {
          "model_module": "@jupyter-widgets/controls",
          "model_name": "HTMLModel",
          "state": {
            "_view_name": "HTMLView",
            "style": "IPY_MODEL_262abad2ce3d468397ec43d880b8c590",
            "_dom_classes": [],
            "description": "",
            "_model_name": "HTMLModel",
            "placeholder": "​",
            "_view_module": "@jupyter-widgets/controls",
            "_model_module_version": "1.5.0",
            "value": " 3/4 [1:57:10&lt;39:05, 2345.08s/it]",
            "_view_count": null,
            "_view_module_version": "1.5.0",
            "description_tooltip": null,
            "_model_module": "@jupyter-widgets/controls",
            "layout": "IPY_MODEL_d4826303d3e543e5aecac7a4b9f87b6c"
          }
        },
        "cfb3e240ce144213937ea541344ae738": {
          "model_module": "@jupyter-widgets/controls",
          "model_name": "ProgressStyleModel",
          "state": {
            "_view_name": "StyleView",
            "_model_name": "ProgressStyleModel",
            "description_width": "initial",
            "_view_module": "@jupyter-widgets/base",
            "_model_module_version": "1.5.0",
            "_view_count": null,
            "_view_module_version": "1.2.0",
            "bar_color": null,
            "_model_module": "@jupyter-widgets/controls"
          }
        },
        "4435f6c9f50141cfb3b5e5c30dab1390": {
          "model_module": "@jupyter-widgets/base",
          "model_name": "LayoutModel",
          "state": {
            "_view_name": "LayoutView",
            "grid_template_rows": null,
            "right": null,
            "justify_content": null,
            "_view_module": "@jupyter-widgets/base",
            "overflow": null,
            "_model_module_version": "1.2.0",
            "_view_count": null,
            "flex_flow": null,
            "width": null,
            "min_width": null,
            "border": null,
            "align_items": null,
            "bottom": null,
            "_model_module": "@jupyter-widgets/base",
            "top": null,
            "grid_column": null,
            "overflow_y": null,
            "overflow_x": null,
            "grid_auto_flow": null,
            "grid_area": null,
            "grid_template_columns": null,
            "flex": null,
            "_model_name": "LayoutModel",
            "justify_items": null,
            "grid_row": null,
            "max_height": null,
            "align_content": null,
            "visibility": null,
            "align_self": null,
            "height": null,
            "min_height": null,
            "padding": null,
            "grid_auto_rows": null,
            "grid_gap": null,
            "max_width": null,
            "order": null,
            "_view_module_version": "1.2.0",
            "grid_template_areas": null,
            "object_position": null,
            "object_fit": null,
            "grid_auto_columns": null,
            "margin": null,
            "display": null,
            "left": null
          }
        },
        "262abad2ce3d468397ec43d880b8c590": {
          "model_module": "@jupyter-widgets/controls",
          "model_name": "DescriptionStyleModel",
          "state": {
            "_view_name": "StyleView",
            "_model_name": "DescriptionStyleModel",
            "description_width": "",
            "_view_module": "@jupyter-widgets/base",
            "_model_module_version": "1.5.0",
            "_view_count": null,
            "_view_module_version": "1.2.0",
            "_model_module": "@jupyter-widgets/controls"
          }
        },
        "d4826303d3e543e5aecac7a4b9f87b6c": {
          "model_module": "@jupyter-widgets/base",
          "model_name": "LayoutModel",
          "state": {
            "_view_name": "LayoutView",
            "grid_template_rows": null,
            "right": null,
            "justify_content": null,
            "_view_module": "@jupyter-widgets/base",
            "overflow": null,
            "_model_module_version": "1.2.0",
            "_view_count": null,
            "flex_flow": null,
            "width": null,
            "min_width": null,
            "border": null,
            "align_items": null,
            "bottom": null,
            "_model_module": "@jupyter-widgets/base",
            "top": null,
            "grid_column": null,
            "overflow_y": null,
            "overflow_x": null,
            "grid_auto_flow": null,
            "grid_area": null,
            "grid_template_columns": null,
            "flex": null,
            "_model_name": "LayoutModel",
            "justify_items": null,
            "grid_row": null,
            "max_height": null,
            "align_content": null,
            "visibility": null,
            "align_self": null,
            "height": null,
            "min_height": null,
            "padding": null,
            "grid_auto_rows": null,
            "grid_gap": null,
            "max_width": null,
            "order": null,
            "_view_module_version": "1.2.0",
            "grid_template_areas": null,
            "object_position": null,
            "object_fit": null,
            "grid_auto_columns": null,
            "margin": null,
            "display": null,
            "left": null
          }
        },
        "e32339102cee4873a203f58142a0ecee": {
          "model_module": "@jupyter-widgets/controls",
          "model_name": "HBoxModel",
          "state": {
            "_view_name": "HBoxView",
            "_dom_classes": [],
            "_model_name": "HBoxModel",
            "_view_module": "@jupyter-widgets/controls",
            "_model_module_version": "1.5.0",
            "_view_count": null,
            "_view_module_version": "1.5.0",
            "box_style": "",
            "layout": "IPY_MODEL_43be77cb4b9f40cca2fc2bc986afa855",
            "_model_module": "@jupyter-widgets/controls",
            "children": [
              "IPY_MODEL_a963f997f0be47fdafd3e9e1548d5020",
              "IPY_MODEL_d92d6105b0d2457799be99f4979666bf"
            ]
          }
        },
        "43be77cb4b9f40cca2fc2bc986afa855": {
          "model_module": "@jupyter-widgets/base",
          "model_name": "LayoutModel",
          "state": {
            "_view_name": "LayoutView",
            "grid_template_rows": null,
            "right": null,
            "justify_content": null,
            "_view_module": "@jupyter-widgets/base",
            "overflow": null,
            "_model_module_version": "1.2.0",
            "_view_count": null,
            "flex_flow": null,
            "width": null,
            "min_width": null,
            "border": null,
            "align_items": null,
            "bottom": null,
            "_model_module": "@jupyter-widgets/base",
            "top": null,
            "grid_column": null,
            "overflow_y": null,
            "overflow_x": null,
            "grid_auto_flow": null,
            "grid_area": null,
            "grid_template_columns": null,
            "flex": null,
            "_model_name": "LayoutModel",
            "justify_items": null,
            "grid_row": null,
            "max_height": null,
            "align_content": null,
            "visibility": null,
            "align_self": null,
            "height": null,
            "min_height": null,
            "padding": null,
            "grid_auto_rows": null,
            "grid_gap": null,
            "max_width": null,
            "order": null,
            "_view_module_version": "1.2.0",
            "grid_template_areas": null,
            "object_position": null,
            "object_fit": null,
            "grid_auto_columns": null,
            "margin": null,
            "display": null,
            "left": null
          }
        },
        "a963f997f0be47fdafd3e9e1548d5020": {
          "model_module": "@jupyter-widgets/controls",
          "model_name": "IntProgressModel",
          "state": {
            "_view_name": "ProgressView",
            "style": "IPY_MODEL_bd788f1df3b74cde9fbbbcd39f51d71b",
            "_dom_classes": [],
            "description": "Loss = 0.2489, 0.3472: 100%",
            "_model_name": "IntProgressModel",
            "bar_style": "success",
            "max": 1000,
            "_view_module": "@jupyter-widgets/controls",
            "_model_module_version": "1.5.0",
            "value": 1000,
            "_view_count": null,
            "_view_module_version": "1.5.0",
            "orientation": "horizontal",
            "min": 0,
            "description_tooltip": null,
            "_model_module": "@jupyter-widgets/controls",
            "layout": "IPY_MODEL_ab379de78b014759992de7df6d3768d3"
          }
        },
        "d92d6105b0d2457799be99f4979666bf": {
          "model_module": "@jupyter-widgets/controls",
          "model_name": "HTMLModel",
          "state": {
            "_view_name": "HTMLView",
            "style": "IPY_MODEL_c2008662b5214874866dbf65f09bebe7",
            "_dom_classes": [],
            "description": "",
            "_model_name": "HTMLModel",
            "placeholder": "​",
            "_view_module": "@jupyter-widgets/controls",
            "_model_module_version": "1.5.0",
            "value": " 1000/1000 [30:44&lt;00:00,  1.84s/it]",
            "_view_count": null,
            "_view_module_version": "1.5.0",
            "description_tooltip": null,
            "_model_module": "@jupyter-widgets/controls",
            "layout": "IPY_MODEL_4234a191fdf04762ba7da91aa41ae87e"
          }
        },
        "bd788f1df3b74cde9fbbbcd39f51d71b": {
          "model_module": "@jupyter-widgets/controls",
          "model_name": "ProgressStyleModel",
          "state": {
            "_view_name": "StyleView",
            "_model_name": "ProgressStyleModel",
            "description_width": "initial",
            "_view_module": "@jupyter-widgets/base",
            "_model_module_version": "1.5.0",
            "_view_count": null,
            "_view_module_version": "1.2.0",
            "bar_color": null,
            "_model_module": "@jupyter-widgets/controls"
          }
        },
        "ab379de78b014759992de7df6d3768d3": {
          "model_module": "@jupyter-widgets/base",
          "model_name": "LayoutModel",
          "state": {
            "_view_name": "LayoutView",
            "grid_template_rows": null,
            "right": null,
            "justify_content": null,
            "_view_module": "@jupyter-widgets/base",
            "overflow": null,
            "_model_module_version": "1.2.0",
            "_view_count": null,
            "flex_flow": null,
            "width": null,
            "min_width": null,
            "border": null,
            "align_items": null,
            "bottom": null,
            "_model_module": "@jupyter-widgets/base",
            "top": null,
            "grid_column": null,
            "overflow_y": null,
            "overflow_x": null,
            "grid_auto_flow": null,
            "grid_area": null,
            "grid_template_columns": null,
            "flex": null,
            "_model_name": "LayoutModel",
            "justify_items": null,
            "grid_row": null,
            "max_height": null,
            "align_content": null,
            "visibility": null,
            "align_self": null,
            "height": null,
            "min_height": null,
            "padding": null,
            "grid_auto_rows": null,
            "grid_gap": null,
            "max_width": null,
            "order": null,
            "_view_module_version": "1.2.0",
            "grid_template_areas": null,
            "object_position": null,
            "object_fit": null,
            "grid_auto_columns": null,
            "margin": null,
            "display": null,
            "left": null
          }
        },
        "c2008662b5214874866dbf65f09bebe7": {
          "model_module": "@jupyter-widgets/controls",
          "model_name": "DescriptionStyleModel",
          "state": {
            "_view_name": "StyleView",
            "_model_name": "DescriptionStyleModel",
            "description_width": "",
            "_view_module": "@jupyter-widgets/base",
            "_model_module_version": "1.5.0",
            "_view_count": null,
            "_view_module_version": "1.2.0",
            "_model_module": "@jupyter-widgets/controls"
          }
        },
        "4234a191fdf04762ba7da91aa41ae87e": {
          "model_module": "@jupyter-widgets/base",
          "model_name": "LayoutModel",
          "state": {
            "_view_name": "LayoutView",
            "grid_template_rows": null,
            "right": null,
            "justify_content": null,
            "_view_module": "@jupyter-widgets/base",
            "overflow": null,
            "_model_module_version": "1.2.0",
            "_view_count": null,
            "flex_flow": null,
            "width": null,
            "min_width": null,
            "border": null,
            "align_items": null,
            "bottom": null,
            "_model_module": "@jupyter-widgets/base",
            "top": null,
            "grid_column": null,
            "overflow_y": null,
            "overflow_x": null,
            "grid_auto_flow": null,
            "grid_area": null,
            "grid_template_columns": null,
            "flex": null,
            "_model_name": "LayoutModel",
            "justify_items": null,
            "grid_row": null,
            "max_height": null,
            "align_content": null,
            "visibility": null,
            "align_self": null,
            "height": null,
            "min_height": null,
            "padding": null,
            "grid_auto_rows": null,
            "grid_gap": null,
            "max_width": null,
            "order": null,
            "_view_module_version": "1.2.0",
            "grid_template_areas": null,
            "object_position": null,
            "object_fit": null,
            "grid_auto_columns": null,
            "margin": null,
            "display": null,
            "left": null
          }
        },
        "121401862f224b0891650ac02482b6ce": {
          "model_module": "@jupyter-widgets/controls",
          "model_name": "HBoxModel",
          "state": {
            "_view_name": "HBoxView",
            "_dom_classes": [],
            "_model_name": "HBoxModel",
            "_view_module": "@jupyter-widgets/controls",
            "_model_module_version": "1.5.0",
            "_view_count": null,
            "_view_module_version": "1.5.0",
            "box_style": "",
            "layout": "IPY_MODEL_a8ceffe1aa784f3fb5b6ecce62d5a3fa",
            "_model_module": "@jupyter-widgets/controls",
            "children": [
              "IPY_MODEL_63c9864ebcb045b09d9fcd8450f135f6",
              "IPY_MODEL_1a1b3e0285724c3b8c5210db68969df5"
            ]
          }
        },
        "a8ceffe1aa784f3fb5b6ecce62d5a3fa": {
          "model_module": "@jupyter-widgets/base",
          "model_name": "LayoutModel",
          "state": {
            "_view_name": "LayoutView",
            "grid_template_rows": null,
            "right": null,
            "justify_content": null,
            "_view_module": "@jupyter-widgets/base",
            "overflow": null,
            "_model_module_version": "1.2.0",
            "_view_count": null,
            "flex_flow": null,
            "width": null,
            "min_width": null,
            "border": null,
            "align_items": null,
            "bottom": null,
            "_model_module": "@jupyter-widgets/base",
            "top": null,
            "grid_column": null,
            "overflow_y": null,
            "overflow_x": null,
            "grid_auto_flow": null,
            "grid_area": null,
            "grid_template_columns": null,
            "flex": null,
            "_model_name": "LayoutModel",
            "justify_items": null,
            "grid_row": null,
            "max_height": null,
            "align_content": null,
            "visibility": null,
            "align_self": null,
            "height": null,
            "min_height": null,
            "padding": null,
            "grid_auto_rows": null,
            "grid_gap": null,
            "max_width": null,
            "order": null,
            "_view_module_version": "1.2.0",
            "grid_template_areas": null,
            "object_position": null,
            "object_fit": null,
            "grid_auto_columns": null,
            "margin": null,
            "display": null,
            "left": null
          }
        },
        "63c9864ebcb045b09d9fcd8450f135f6": {
          "model_module": "@jupyter-widgets/controls",
          "model_name": "IntProgressModel",
          "state": {
            "_view_name": "ProgressView",
            "style": "IPY_MODEL_f235534be0914215be8b3f1dd0f9c169",
            "_dom_classes": [],
            "description": "100%",
            "_model_name": "IntProgressModel",
            "bar_style": "",
            "max": 67,
            "_view_module": "@jupyter-widgets/controls",
            "_model_module_version": "1.5.0",
            "value": 67,
            "_view_count": null,
            "_view_module_version": "1.5.0",
            "orientation": "horizontal",
            "min": 0,
            "description_tooltip": null,
            "_model_module": "@jupyter-widgets/controls",
            "layout": "IPY_MODEL_66e76fe832f64ffdafe89c60c52a1fd5"
          }
        },
        "1a1b3e0285724c3b8c5210db68969df5": {
          "model_module": "@jupyter-widgets/controls",
          "model_name": "HTMLModel",
          "state": {
            "_view_name": "HTMLView",
            "style": "IPY_MODEL_76af2609b65641fd9a5d3cae14218910",
            "_dom_classes": [],
            "description": "",
            "_model_name": "HTMLModel",
            "placeholder": "​",
            "_view_module": "@jupyter-widgets/controls",
            "_model_module_version": "1.5.0",
            "value": " 67/67 [08:22&lt;00:00,  6.86s/it]",
            "_view_count": null,
            "_view_module_version": "1.5.0",
            "description_tooltip": null,
            "_model_module": "@jupyter-widgets/controls",
            "layout": "IPY_MODEL_d9a7a542406944fe9192fc097f7bb26a"
          }
        },
        "f235534be0914215be8b3f1dd0f9c169": {
          "model_module": "@jupyter-widgets/controls",
          "model_name": "ProgressStyleModel",
          "state": {
            "_view_name": "StyleView",
            "_model_name": "ProgressStyleModel",
            "description_width": "initial",
            "_view_module": "@jupyter-widgets/base",
            "_model_module_version": "1.5.0",
            "_view_count": null,
            "_view_module_version": "1.2.0",
            "bar_color": null,
            "_model_module": "@jupyter-widgets/controls"
          }
        },
        "66e76fe832f64ffdafe89c60c52a1fd5": {
          "model_module": "@jupyter-widgets/base",
          "model_name": "LayoutModel",
          "state": {
            "_view_name": "LayoutView",
            "grid_template_rows": null,
            "right": null,
            "justify_content": null,
            "_view_module": "@jupyter-widgets/base",
            "overflow": null,
            "_model_module_version": "1.2.0",
            "_view_count": null,
            "flex_flow": null,
            "width": null,
            "min_width": null,
            "border": null,
            "align_items": null,
            "bottom": null,
            "_model_module": "@jupyter-widgets/base",
            "top": null,
            "grid_column": null,
            "overflow_y": null,
            "overflow_x": null,
            "grid_auto_flow": null,
            "grid_area": null,
            "grid_template_columns": null,
            "flex": null,
            "_model_name": "LayoutModel",
            "justify_items": null,
            "grid_row": null,
            "max_height": null,
            "align_content": null,
            "visibility": null,
            "align_self": null,
            "height": null,
            "min_height": null,
            "padding": null,
            "grid_auto_rows": null,
            "grid_gap": null,
            "max_width": null,
            "order": null,
            "_view_module_version": "1.2.0",
            "grid_template_areas": null,
            "object_position": null,
            "object_fit": null,
            "grid_auto_columns": null,
            "margin": null,
            "display": null,
            "left": null
          }
        },
        "76af2609b65641fd9a5d3cae14218910": {
          "model_module": "@jupyter-widgets/controls",
          "model_name": "DescriptionStyleModel",
          "state": {
            "_view_name": "StyleView",
            "_model_name": "DescriptionStyleModel",
            "description_width": "",
            "_view_module": "@jupyter-widgets/base",
            "_model_module_version": "1.5.0",
            "_view_count": null,
            "_view_module_version": "1.2.0",
            "_model_module": "@jupyter-widgets/controls"
          }
        },
        "d9a7a542406944fe9192fc097f7bb26a": {
          "model_module": "@jupyter-widgets/base",
          "model_name": "LayoutModel",
          "state": {
            "_view_name": "LayoutView",
            "grid_template_rows": null,
            "right": null,
            "justify_content": null,
            "_view_module": "@jupyter-widgets/base",
            "overflow": null,
            "_model_module_version": "1.2.0",
            "_view_count": null,
            "flex_flow": null,
            "width": null,
            "min_width": null,
            "border": null,
            "align_items": null,
            "bottom": null,
            "_model_module": "@jupyter-widgets/base",
            "top": null,
            "grid_column": null,
            "overflow_y": null,
            "overflow_x": null,
            "grid_auto_flow": null,
            "grid_area": null,
            "grid_template_columns": null,
            "flex": null,
            "_model_name": "LayoutModel",
            "justify_items": null,
            "grid_row": null,
            "max_height": null,
            "align_content": null,
            "visibility": null,
            "align_self": null,
            "height": null,
            "min_height": null,
            "padding": null,
            "grid_auto_rows": null,
            "grid_gap": null,
            "max_width": null,
            "order": null,
            "_view_module_version": "1.2.0",
            "grid_template_areas": null,
            "object_position": null,
            "object_fit": null,
            "grid_auto_columns": null,
            "margin": null,
            "display": null,
            "left": null
          }
        },
        "b8b6272c47d949d08cd99d3ef94e5077": {
          "model_module": "@jupyter-widgets/controls",
          "model_name": "HBoxModel",
          "state": {
            "_view_name": "HBoxView",
            "_dom_classes": [],
            "_model_name": "HBoxModel",
            "_view_module": "@jupyter-widgets/controls",
            "_model_module_version": "1.5.0",
            "_view_count": null,
            "_view_module_version": "1.5.0",
            "box_style": "",
            "layout": "IPY_MODEL_5c4cc5772f9c4eb59066880580f6a479",
            "_model_module": "@jupyter-widgets/controls",
            "children": [
              "IPY_MODEL_41178bf2ecce4cd1b44231872f35378c",
              "IPY_MODEL_9b4a1f42eb484ce7ba36ed865f2a82ba"
            ]
          }
        },
        "5c4cc5772f9c4eb59066880580f6a479": {
          "model_module": "@jupyter-widgets/base",
          "model_name": "LayoutModel",
          "state": {
            "_view_name": "LayoutView",
            "grid_template_rows": null,
            "right": null,
            "justify_content": null,
            "_view_module": "@jupyter-widgets/base",
            "overflow": null,
            "_model_module_version": "1.2.0",
            "_view_count": null,
            "flex_flow": null,
            "width": null,
            "min_width": null,
            "border": null,
            "align_items": null,
            "bottom": null,
            "_model_module": "@jupyter-widgets/base",
            "top": null,
            "grid_column": null,
            "overflow_y": null,
            "overflow_x": null,
            "grid_auto_flow": null,
            "grid_area": null,
            "grid_template_columns": null,
            "flex": null,
            "_model_name": "LayoutModel",
            "justify_items": null,
            "grid_row": null,
            "max_height": null,
            "align_content": null,
            "visibility": null,
            "align_self": null,
            "height": null,
            "min_height": null,
            "padding": null,
            "grid_auto_rows": null,
            "grid_gap": null,
            "max_width": null,
            "order": null,
            "_view_module_version": "1.2.0",
            "grid_template_areas": null,
            "object_position": null,
            "object_fit": null,
            "grid_auto_columns": null,
            "margin": null,
            "display": null,
            "left": null
          }
        },
        "41178bf2ecce4cd1b44231872f35378c": {
          "model_module": "@jupyter-widgets/controls",
          "model_name": "IntProgressModel",
          "state": {
            "_view_name": "ProgressView",
            "style": "IPY_MODEL_4ffae21ba9e449c7912688fee831f0b1",
            "_dom_classes": [],
            "description": "Loss = 0.2465, 0.3393: 100%",
            "_model_name": "IntProgressModel",
            "bar_style": "success",
            "max": 1000,
            "_view_module": "@jupyter-widgets/controls",
            "_model_module_version": "1.5.0",
            "value": 1000,
            "_view_count": null,
            "_view_module_version": "1.5.0",
            "orientation": "horizontal",
            "min": 0,
            "description_tooltip": null,
            "_model_module": "@jupyter-widgets/controls",
            "layout": "IPY_MODEL_24ff2dfae825499eaaeb7732e116703d"
          }
        },
        "9b4a1f42eb484ce7ba36ed865f2a82ba": {
          "model_module": "@jupyter-widgets/controls",
          "model_name": "HTMLModel",
          "state": {
            "_view_name": "HTMLView",
            "style": "IPY_MODEL_e24c75ff40754335bcf99ac12f9e13e8",
            "_dom_classes": [],
            "description": "",
            "_model_name": "HTMLModel",
            "placeholder": "​",
            "_view_module": "@jupyter-widgets/controls",
            "_model_module_version": "1.5.0",
            "value": " 1000/1000 [30:35&lt;00:00,  1.84s/it]",
            "_view_count": null,
            "_view_module_version": "1.5.0",
            "description_tooltip": null,
            "_model_module": "@jupyter-widgets/controls",
            "layout": "IPY_MODEL_5ff7f3345b4b488f8c97f5c40fb82cb9"
          }
        },
        "4ffae21ba9e449c7912688fee831f0b1": {
          "model_module": "@jupyter-widgets/controls",
          "model_name": "ProgressStyleModel",
          "state": {
            "_view_name": "StyleView",
            "_model_name": "ProgressStyleModel",
            "description_width": "initial",
            "_view_module": "@jupyter-widgets/base",
            "_model_module_version": "1.5.0",
            "_view_count": null,
            "_view_module_version": "1.2.0",
            "bar_color": null,
            "_model_module": "@jupyter-widgets/controls"
          }
        },
        "24ff2dfae825499eaaeb7732e116703d": {
          "model_module": "@jupyter-widgets/base",
          "model_name": "LayoutModel",
          "state": {
            "_view_name": "LayoutView",
            "grid_template_rows": null,
            "right": null,
            "justify_content": null,
            "_view_module": "@jupyter-widgets/base",
            "overflow": null,
            "_model_module_version": "1.2.0",
            "_view_count": null,
            "flex_flow": null,
            "width": null,
            "min_width": null,
            "border": null,
            "align_items": null,
            "bottom": null,
            "_model_module": "@jupyter-widgets/base",
            "top": null,
            "grid_column": null,
            "overflow_y": null,
            "overflow_x": null,
            "grid_auto_flow": null,
            "grid_area": null,
            "grid_template_columns": null,
            "flex": null,
            "_model_name": "LayoutModel",
            "justify_items": null,
            "grid_row": null,
            "max_height": null,
            "align_content": null,
            "visibility": null,
            "align_self": null,
            "height": null,
            "min_height": null,
            "padding": null,
            "grid_auto_rows": null,
            "grid_gap": null,
            "max_width": null,
            "order": null,
            "_view_module_version": "1.2.0",
            "grid_template_areas": null,
            "object_position": null,
            "object_fit": null,
            "grid_auto_columns": null,
            "margin": null,
            "display": null,
            "left": null
          }
        },
        "e24c75ff40754335bcf99ac12f9e13e8": {
          "model_module": "@jupyter-widgets/controls",
          "model_name": "DescriptionStyleModel",
          "state": {
            "_view_name": "StyleView",
            "_model_name": "DescriptionStyleModel",
            "description_width": "",
            "_view_module": "@jupyter-widgets/base",
            "_model_module_version": "1.5.0",
            "_view_count": null,
            "_view_module_version": "1.2.0",
            "_model_module": "@jupyter-widgets/controls"
          }
        },
        "5ff7f3345b4b488f8c97f5c40fb82cb9": {
          "model_module": "@jupyter-widgets/base",
          "model_name": "LayoutModel",
          "state": {
            "_view_name": "LayoutView",
            "grid_template_rows": null,
            "right": null,
            "justify_content": null,
            "_view_module": "@jupyter-widgets/base",
            "overflow": null,
            "_model_module_version": "1.2.0",
            "_view_count": null,
            "flex_flow": null,
            "width": null,
            "min_width": null,
            "border": null,
            "align_items": null,
            "bottom": null,
            "_model_module": "@jupyter-widgets/base",
            "top": null,
            "grid_column": null,
            "overflow_y": null,
            "overflow_x": null,
            "grid_auto_flow": null,
            "grid_area": null,
            "grid_template_columns": null,
            "flex": null,
            "_model_name": "LayoutModel",
            "justify_items": null,
            "grid_row": null,
            "max_height": null,
            "align_content": null,
            "visibility": null,
            "align_self": null,
            "height": null,
            "min_height": null,
            "padding": null,
            "grid_auto_rows": null,
            "grid_gap": null,
            "max_width": null,
            "order": null,
            "_view_module_version": "1.2.0",
            "grid_template_areas": null,
            "object_position": null,
            "object_fit": null,
            "grid_auto_columns": null,
            "margin": null,
            "display": null,
            "left": null
          }
        },
        "7fd3de6c6bca49389ae8664007549db5": {
          "model_module": "@jupyter-widgets/controls",
          "model_name": "HBoxModel",
          "state": {
            "_view_name": "HBoxView",
            "_dom_classes": [],
            "_model_name": "HBoxModel",
            "_view_module": "@jupyter-widgets/controls",
            "_model_module_version": "1.5.0",
            "_view_count": null,
            "_view_module_version": "1.5.0",
            "box_style": "",
            "layout": "IPY_MODEL_0de051d4416840f9b467981b714d2368",
            "_model_module": "@jupyter-widgets/controls",
            "children": [
              "IPY_MODEL_c476e22ee80d43d3babcf71e244e4413",
              "IPY_MODEL_c368cef2ad484d368bb86f4c27a57468"
            ]
          }
        },
        "0de051d4416840f9b467981b714d2368": {
          "model_module": "@jupyter-widgets/base",
          "model_name": "LayoutModel",
          "state": {
            "_view_name": "LayoutView",
            "grid_template_rows": null,
            "right": null,
            "justify_content": null,
            "_view_module": "@jupyter-widgets/base",
            "overflow": null,
            "_model_module_version": "1.2.0",
            "_view_count": null,
            "flex_flow": null,
            "width": null,
            "min_width": null,
            "border": null,
            "align_items": null,
            "bottom": null,
            "_model_module": "@jupyter-widgets/base",
            "top": null,
            "grid_column": null,
            "overflow_y": null,
            "overflow_x": null,
            "grid_auto_flow": null,
            "grid_area": null,
            "grid_template_columns": null,
            "flex": null,
            "_model_name": "LayoutModel",
            "justify_items": null,
            "grid_row": null,
            "max_height": null,
            "align_content": null,
            "visibility": null,
            "align_self": null,
            "height": null,
            "min_height": null,
            "padding": null,
            "grid_auto_rows": null,
            "grid_gap": null,
            "max_width": null,
            "order": null,
            "_view_module_version": "1.2.0",
            "grid_template_areas": null,
            "object_position": null,
            "object_fit": null,
            "grid_auto_columns": null,
            "margin": null,
            "display": null,
            "left": null
          }
        },
        "c476e22ee80d43d3babcf71e244e4413": {
          "model_module": "@jupyter-widgets/controls",
          "model_name": "IntProgressModel",
          "state": {
            "_view_name": "ProgressView",
            "style": "IPY_MODEL_3a729f17edbe4cd1939b41a83808cda6",
            "_dom_classes": [],
            "description": "100%",
            "_model_name": "IntProgressModel",
            "bar_style": "",
            "max": 67,
            "_view_module": "@jupyter-widgets/controls",
            "_model_module_version": "1.5.0",
            "value": 67,
            "_view_count": null,
            "_view_module_version": "1.5.0",
            "orientation": "horizontal",
            "min": 0,
            "description_tooltip": null,
            "_model_module": "@jupyter-widgets/controls",
            "layout": "IPY_MODEL_dff55718d2a248ffb0209633b9acc813"
          }
        },
        "c368cef2ad484d368bb86f4c27a57468": {
          "model_module": "@jupyter-widgets/controls",
          "model_name": "HTMLModel",
          "state": {
            "_view_name": "HTMLView",
            "style": "IPY_MODEL_8af8c6138c134e4081efdb72cb40a1c2",
            "_dom_classes": [],
            "description": "",
            "_model_name": "HTMLModel",
            "placeholder": "​",
            "_view_module": "@jupyter-widgets/controls",
            "_model_module_version": "1.5.0",
            "value": " 67/67 [08:17&lt;00:00,  6.82s/it]",
            "_view_count": null,
            "_view_module_version": "1.5.0",
            "description_tooltip": null,
            "_model_module": "@jupyter-widgets/controls",
            "layout": "IPY_MODEL_a8f3cb30367c40dabcdd9799521bc2ff"
          }
        },
        "3a729f17edbe4cd1939b41a83808cda6": {
          "model_module": "@jupyter-widgets/controls",
          "model_name": "ProgressStyleModel",
          "state": {
            "_view_name": "StyleView",
            "_model_name": "ProgressStyleModel",
            "description_width": "initial",
            "_view_module": "@jupyter-widgets/base",
            "_model_module_version": "1.5.0",
            "_view_count": null,
            "_view_module_version": "1.2.0",
            "bar_color": null,
            "_model_module": "@jupyter-widgets/controls"
          }
        },
        "dff55718d2a248ffb0209633b9acc813": {
          "model_module": "@jupyter-widgets/base",
          "model_name": "LayoutModel",
          "state": {
            "_view_name": "LayoutView",
            "grid_template_rows": null,
            "right": null,
            "justify_content": null,
            "_view_module": "@jupyter-widgets/base",
            "overflow": null,
            "_model_module_version": "1.2.0",
            "_view_count": null,
            "flex_flow": null,
            "width": null,
            "min_width": null,
            "border": null,
            "align_items": null,
            "bottom": null,
            "_model_module": "@jupyter-widgets/base",
            "top": null,
            "grid_column": null,
            "overflow_y": null,
            "overflow_x": null,
            "grid_auto_flow": null,
            "grid_area": null,
            "grid_template_columns": null,
            "flex": null,
            "_model_name": "LayoutModel",
            "justify_items": null,
            "grid_row": null,
            "max_height": null,
            "align_content": null,
            "visibility": null,
            "align_self": null,
            "height": null,
            "min_height": null,
            "padding": null,
            "grid_auto_rows": null,
            "grid_gap": null,
            "max_width": null,
            "order": null,
            "_view_module_version": "1.2.0",
            "grid_template_areas": null,
            "object_position": null,
            "object_fit": null,
            "grid_auto_columns": null,
            "margin": null,
            "display": null,
            "left": null
          }
        },
        "8af8c6138c134e4081efdb72cb40a1c2": {
          "model_module": "@jupyter-widgets/controls",
          "model_name": "DescriptionStyleModel",
          "state": {
            "_view_name": "StyleView",
            "_model_name": "DescriptionStyleModel",
            "description_width": "",
            "_view_module": "@jupyter-widgets/base",
            "_model_module_version": "1.5.0",
            "_view_count": null,
            "_view_module_version": "1.2.0",
            "_model_module": "@jupyter-widgets/controls"
          }
        },
        "a8f3cb30367c40dabcdd9799521bc2ff": {
          "model_module": "@jupyter-widgets/base",
          "model_name": "LayoutModel",
          "state": {
            "_view_name": "LayoutView",
            "grid_template_rows": null,
            "right": null,
            "justify_content": null,
            "_view_module": "@jupyter-widgets/base",
            "overflow": null,
            "_model_module_version": "1.2.0",
            "_view_count": null,
            "flex_flow": null,
            "width": null,
            "min_width": null,
            "border": null,
            "align_items": null,
            "bottom": null,
            "_model_module": "@jupyter-widgets/base",
            "top": null,
            "grid_column": null,
            "overflow_y": null,
            "overflow_x": null,
            "grid_auto_flow": null,
            "grid_area": null,
            "grid_template_columns": null,
            "flex": null,
            "_model_name": "LayoutModel",
            "justify_items": null,
            "grid_row": null,
            "max_height": null,
            "align_content": null,
            "visibility": null,
            "align_self": null,
            "height": null,
            "min_height": null,
            "padding": null,
            "grid_auto_rows": null,
            "grid_gap": null,
            "max_width": null,
            "order": null,
            "_view_module_version": "1.2.0",
            "grid_template_areas": null,
            "object_position": null,
            "object_fit": null,
            "grid_auto_columns": null,
            "margin": null,
            "display": null,
            "left": null
          }
        },
        "e015313942934d7c85bcab7802faf6dd": {
          "model_module": "@jupyter-widgets/controls",
          "model_name": "HBoxModel",
          "state": {
            "_view_name": "HBoxView",
            "_dom_classes": [],
            "_model_name": "HBoxModel",
            "_view_module": "@jupyter-widgets/controls",
            "_model_module_version": "1.5.0",
            "_view_count": null,
            "_view_module_version": "1.5.0",
            "box_style": "",
            "layout": "IPY_MODEL_5de2cf3cc95a4335b538cb4e2430b54b",
            "_model_module": "@jupyter-widgets/controls",
            "children": [
              "IPY_MODEL_7357a0d5d16d447ea29d6885fa135c7b",
              "IPY_MODEL_acbd238880954b2d8db12aedb5956942"
            ]
          }
        },
        "5de2cf3cc95a4335b538cb4e2430b54b": {
          "model_module": "@jupyter-widgets/base",
          "model_name": "LayoutModel",
          "state": {
            "_view_name": "LayoutView",
            "grid_template_rows": null,
            "right": null,
            "justify_content": null,
            "_view_module": "@jupyter-widgets/base",
            "overflow": null,
            "_model_module_version": "1.2.0",
            "_view_count": null,
            "flex_flow": null,
            "width": null,
            "min_width": null,
            "border": null,
            "align_items": null,
            "bottom": null,
            "_model_module": "@jupyter-widgets/base",
            "top": null,
            "grid_column": null,
            "overflow_y": null,
            "overflow_x": null,
            "grid_auto_flow": null,
            "grid_area": null,
            "grid_template_columns": null,
            "flex": null,
            "_model_name": "LayoutModel",
            "justify_items": null,
            "grid_row": null,
            "max_height": null,
            "align_content": null,
            "visibility": null,
            "align_self": null,
            "height": null,
            "min_height": null,
            "padding": null,
            "grid_auto_rows": null,
            "grid_gap": null,
            "max_width": null,
            "order": null,
            "_view_module_version": "1.2.0",
            "grid_template_areas": null,
            "object_position": null,
            "object_fit": null,
            "grid_auto_columns": null,
            "margin": null,
            "display": null,
            "left": null
          }
        },
        "7357a0d5d16d447ea29d6885fa135c7b": {
          "model_module": "@jupyter-widgets/controls",
          "model_name": "IntProgressModel",
          "state": {
            "_view_name": "ProgressView",
            "style": "IPY_MODEL_fb73d0a801ee436e8f7106996c1bda53",
            "_dom_classes": [],
            "description": "Loss = 0.2441, 0.3357: 100%",
            "_model_name": "IntProgressModel",
            "bar_style": "success",
            "max": 1000,
            "_view_module": "@jupyter-widgets/controls",
            "_model_module_version": "1.5.0",
            "value": 1000,
            "_view_count": null,
            "_view_module_version": "1.5.0",
            "orientation": "horizontal",
            "min": 0,
            "description_tooltip": null,
            "_model_module": "@jupyter-widgets/controls",
            "layout": "IPY_MODEL_f9fed06bd023442c8fc0063df96b4303"
          }
        },
        "acbd238880954b2d8db12aedb5956942": {
          "model_module": "@jupyter-widgets/controls",
          "model_name": "HTMLModel",
          "state": {
            "_view_name": "HTMLView",
            "style": "IPY_MODEL_262971d3ac5e4f078457068485b78ed9",
            "_dom_classes": [],
            "description": "",
            "_model_name": "HTMLModel",
            "placeholder": "​",
            "_view_module": "@jupyter-widgets/controls",
            "_model_module_version": "1.5.0",
            "value": " 1000/1000 [30:46&lt;00:00,  1.85s/it]",
            "_view_count": null,
            "_view_module_version": "1.5.0",
            "description_tooltip": null,
            "_model_module": "@jupyter-widgets/controls",
            "layout": "IPY_MODEL_88feca8b6412419088febd6b2fcc2bc3"
          }
        },
        "fb73d0a801ee436e8f7106996c1bda53": {
          "model_module": "@jupyter-widgets/controls",
          "model_name": "ProgressStyleModel",
          "state": {
            "_view_name": "StyleView",
            "_model_name": "ProgressStyleModel",
            "description_width": "initial",
            "_view_module": "@jupyter-widgets/base",
            "_model_module_version": "1.5.0",
            "_view_count": null,
            "_view_module_version": "1.2.0",
            "bar_color": null,
            "_model_module": "@jupyter-widgets/controls"
          }
        },
        "f9fed06bd023442c8fc0063df96b4303": {
          "model_module": "@jupyter-widgets/base",
          "model_name": "LayoutModel",
          "state": {
            "_view_name": "LayoutView",
            "grid_template_rows": null,
            "right": null,
            "justify_content": null,
            "_view_module": "@jupyter-widgets/base",
            "overflow": null,
            "_model_module_version": "1.2.0",
            "_view_count": null,
            "flex_flow": null,
            "width": null,
            "min_width": null,
            "border": null,
            "align_items": null,
            "bottom": null,
            "_model_module": "@jupyter-widgets/base",
            "top": null,
            "grid_column": null,
            "overflow_y": null,
            "overflow_x": null,
            "grid_auto_flow": null,
            "grid_area": null,
            "grid_template_columns": null,
            "flex": null,
            "_model_name": "LayoutModel",
            "justify_items": null,
            "grid_row": null,
            "max_height": null,
            "align_content": null,
            "visibility": null,
            "align_self": null,
            "height": null,
            "min_height": null,
            "padding": null,
            "grid_auto_rows": null,
            "grid_gap": null,
            "max_width": null,
            "order": null,
            "_view_module_version": "1.2.0",
            "grid_template_areas": null,
            "object_position": null,
            "object_fit": null,
            "grid_auto_columns": null,
            "margin": null,
            "display": null,
            "left": null
          }
        },
        "262971d3ac5e4f078457068485b78ed9": {
          "model_module": "@jupyter-widgets/controls",
          "model_name": "DescriptionStyleModel",
          "state": {
            "_view_name": "StyleView",
            "_model_name": "DescriptionStyleModel",
            "description_width": "",
            "_view_module": "@jupyter-widgets/base",
            "_model_module_version": "1.5.0",
            "_view_count": null,
            "_view_module_version": "1.2.0",
            "_model_module": "@jupyter-widgets/controls"
          }
        },
        "88feca8b6412419088febd6b2fcc2bc3": {
          "model_module": "@jupyter-widgets/base",
          "model_name": "LayoutModel",
          "state": {
            "_view_name": "LayoutView",
            "grid_template_rows": null,
            "right": null,
            "justify_content": null,
            "_view_module": "@jupyter-widgets/base",
            "overflow": null,
            "_model_module_version": "1.2.0",
            "_view_count": null,
            "flex_flow": null,
            "width": null,
            "min_width": null,
            "border": null,
            "align_items": null,
            "bottom": null,
            "_model_module": "@jupyter-widgets/base",
            "top": null,
            "grid_column": null,
            "overflow_y": null,
            "overflow_x": null,
            "grid_auto_flow": null,
            "grid_area": null,
            "grid_template_columns": null,
            "flex": null,
            "_model_name": "LayoutModel",
            "justify_items": null,
            "grid_row": null,
            "max_height": null,
            "align_content": null,
            "visibility": null,
            "align_self": null,
            "height": null,
            "min_height": null,
            "padding": null,
            "grid_auto_rows": null,
            "grid_gap": null,
            "max_width": null,
            "order": null,
            "_view_module_version": "1.2.0",
            "grid_template_areas": null,
            "object_position": null,
            "object_fit": null,
            "grid_auto_columns": null,
            "margin": null,
            "display": null,
            "left": null
          }
        },
        "743f3ee472534e94841980d695c3c858": {
          "model_module": "@jupyter-widgets/controls",
          "model_name": "HBoxModel",
          "state": {
            "_view_name": "HBoxView",
            "_dom_classes": [],
            "_model_name": "HBoxModel",
            "_view_module": "@jupyter-widgets/controls",
            "_model_module_version": "1.5.0",
            "_view_count": null,
            "_view_module_version": "1.5.0",
            "box_style": "",
            "layout": "IPY_MODEL_da4b0935f3f948de89a781805d78e4d4",
            "_model_module": "@jupyter-widgets/controls",
            "children": [
              "IPY_MODEL_bbb7522f2aa943d3a069b6dab9b3f99e",
              "IPY_MODEL_841015ae13924877a69942aed8d561ac"
            ]
          }
        },
        "da4b0935f3f948de89a781805d78e4d4": {
          "model_module": "@jupyter-widgets/base",
          "model_name": "LayoutModel",
          "state": {
            "_view_name": "LayoutView",
            "grid_template_rows": null,
            "right": null,
            "justify_content": null,
            "_view_module": "@jupyter-widgets/base",
            "overflow": null,
            "_model_module_version": "1.2.0",
            "_view_count": null,
            "flex_flow": null,
            "width": null,
            "min_width": null,
            "border": null,
            "align_items": null,
            "bottom": null,
            "_model_module": "@jupyter-widgets/base",
            "top": null,
            "grid_column": null,
            "overflow_y": null,
            "overflow_x": null,
            "grid_auto_flow": null,
            "grid_area": null,
            "grid_template_columns": null,
            "flex": null,
            "_model_name": "LayoutModel",
            "justify_items": null,
            "grid_row": null,
            "max_height": null,
            "align_content": null,
            "visibility": null,
            "align_self": null,
            "height": null,
            "min_height": null,
            "padding": null,
            "grid_auto_rows": null,
            "grid_gap": null,
            "max_width": null,
            "order": null,
            "_view_module_version": "1.2.0",
            "grid_template_areas": null,
            "object_position": null,
            "object_fit": null,
            "grid_auto_columns": null,
            "margin": null,
            "display": null,
            "left": null
          }
        },
        "bbb7522f2aa943d3a069b6dab9b3f99e": {
          "model_module": "@jupyter-widgets/controls",
          "model_name": "IntProgressModel",
          "state": {
            "_view_name": "ProgressView",
            "style": "IPY_MODEL_d0ce7254f0f742c8990ac5e7689d4f46",
            "_dom_classes": [],
            "description": "100%",
            "_model_name": "IntProgressModel",
            "bar_style": "",
            "max": 67,
            "_view_module": "@jupyter-widgets/controls",
            "_model_module_version": "1.5.0",
            "value": 67,
            "_view_count": null,
            "_view_module_version": "1.5.0",
            "orientation": "horizontal",
            "min": 0,
            "description_tooltip": null,
            "_model_module": "@jupyter-widgets/controls",
            "layout": "IPY_MODEL_f3d90da2a0df4df8bdb7980fe3de4e34"
          }
        },
        "841015ae13924877a69942aed8d561ac": {
          "model_module": "@jupyter-widgets/controls",
          "model_name": "HTMLModel",
          "state": {
            "_view_name": "HTMLView",
            "style": "IPY_MODEL_95b6d1464f9a447f821bb2fd9a7bfb96",
            "_dom_classes": [],
            "description": "",
            "_model_name": "HTMLModel",
            "placeholder": "​",
            "_view_module": "@jupyter-widgets/controls",
            "_model_module_version": "1.5.0",
            "value": " 67/67 [08:23&lt;00:00,  6.84s/it]",
            "_view_count": null,
            "_view_module_version": "1.5.0",
            "description_tooltip": null,
            "_model_module": "@jupyter-widgets/controls",
            "layout": "IPY_MODEL_43d0bcdb7b6f4e8d9a320093701f51a6"
          }
        },
        "d0ce7254f0f742c8990ac5e7689d4f46": {
          "model_module": "@jupyter-widgets/controls",
          "model_name": "ProgressStyleModel",
          "state": {
            "_view_name": "StyleView",
            "_model_name": "ProgressStyleModel",
            "description_width": "initial",
            "_view_module": "@jupyter-widgets/base",
            "_model_module_version": "1.5.0",
            "_view_count": null,
            "_view_module_version": "1.2.0",
            "bar_color": null,
            "_model_module": "@jupyter-widgets/controls"
          }
        },
        "f3d90da2a0df4df8bdb7980fe3de4e34": {
          "model_module": "@jupyter-widgets/base",
          "model_name": "LayoutModel",
          "state": {
            "_view_name": "LayoutView",
            "grid_template_rows": null,
            "right": null,
            "justify_content": null,
            "_view_module": "@jupyter-widgets/base",
            "overflow": null,
            "_model_module_version": "1.2.0",
            "_view_count": null,
            "flex_flow": null,
            "width": null,
            "min_width": null,
            "border": null,
            "align_items": null,
            "bottom": null,
            "_model_module": "@jupyter-widgets/base",
            "top": null,
            "grid_column": null,
            "overflow_y": null,
            "overflow_x": null,
            "grid_auto_flow": null,
            "grid_area": null,
            "grid_template_columns": null,
            "flex": null,
            "_model_name": "LayoutModel",
            "justify_items": null,
            "grid_row": null,
            "max_height": null,
            "align_content": null,
            "visibility": null,
            "align_self": null,
            "height": null,
            "min_height": null,
            "padding": null,
            "grid_auto_rows": null,
            "grid_gap": null,
            "max_width": null,
            "order": null,
            "_view_module_version": "1.2.0",
            "grid_template_areas": null,
            "object_position": null,
            "object_fit": null,
            "grid_auto_columns": null,
            "margin": null,
            "display": null,
            "left": null
          }
        },
        "95b6d1464f9a447f821bb2fd9a7bfb96": {
          "model_module": "@jupyter-widgets/controls",
          "model_name": "DescriptionStyleModel",
          "state": {
            "_view_name": "StyleView",
            "_model_name": "DescriptionStyleModel",
            "description_width": "",
            "_view_module": "@jupyter-widgets/base",
            "_model_module_version": "1.5.0",
            "_view_count": null,
            "_view_module_version": "1.2.0",
            "_model_module": "@jupyter-widgets/controls"
          }
        },
        "43d0bcdb7b6f4e8d9a320093701f51a6": {
          "model_module": "@jupyter-widgets/base",
          "model_name": "LayoutModel",
          "state": {
            "_view_name": "LayoutView",
            "grid_template_rows": null,
            "right": null,
            "justify_content": null,
            "_view_module": "@jupyter-widgets/base",
            "overflow": null,
            "_model_module_version": "1.2.0",
            "_view_count": null,
            "flex_flow": null,
            "width": null,
            "min_width": null,
            "border": null,
            "align_items": null,
            "bottom": null,
            "_model_module": "@jupyter-widgets/base",
            "top": null,
            "grid_column": null,
            "overflow_y": null,
            "overflow_x": null,
            "grid_auto_flow": null,
            "grid_area": null,
            "grid_template_columns": null,
            "flex": null,
            "_model_name": "LayoutModel",
            "justify_items": null,
            "grid_row": null,
            "max_height": null,
            "align_content": null,
            "visibility": null,
            "align_self": null,
            "height": null,
            "min_height": null,
            "padding": null,
            "grid_auto_rows": null,
            "grid_gap": null,
            "max_width": null,
            "order": null,
            "_view_module_version": "1.2.0",
            "grid_template_areas": null,
            "object_position": null,
            "object_fit": null,
            "grid_auto_columns": null,
            "margin": null,
            "display": null,
            "left": null
          }
        },
        "1289cda9c77e4103ac3e15cb20fe93e8": {
          "model_module": "@jupyter-widgets/controls",
          "model_name": "HBoxModel",
          "state": {
            "_view_name": "HBoxView",
            "_dom_classes": [],
            "_model_name": "HBoxModel",
            "_view_module": "@jupyter-widgets/controls",
            "_model_module_version": "1.5.0",
            "_view_count": null,
            "_view_module_version": "1.5.0",
            "box_style": "",
            "layout": "IPY_MODEL_a2e6943a36124f569eb06a9fbdc2e9ff",
            "_model_module": "@jupyter-widgets/controls",
            "children": [
              "IPY_MODEL_12d4c6f4d5814469916e1f00e15c4e02",
              "IPY_MODEL_f31fdfc31dc9469199d625d1390c2e8d"
            ]
          }
        },
        "a2e6943a36124f569eb06a9fbdc2e9ff": {
          "model_module": "@jupyter-widgets/base",
          "model_name": "LayoutModel",
          "state": {
            "_view_name": "LayoutView",
            "grid_template_rows": null,
            "right": null,
            "justify_content": null,
            "_view_module": "@jupyter-widgets/base",
            "overflow": null,
            "_model_module_version": "1.2.0",
            "_view_count": null,
            "flex_flow": null,
            "width": null,
            "min_width": null,
            "border": null,
            "align_items": null,
            "bottom": null,
            "_model_module": "@jupyter-widgets/base",
            "top": null,
            "grid_column": null,
            "overflow_y": null,
            "overflow_x": null,
            "grid_auto_flow": null,
            "grid_area": null,
            "grid_template_columns": null,
            "flex": null,
            "_model_name": "LayoutModel",
            "justify_items": null,
            "grid_row": null,
            "max_height": null,
            "align_content": null,
            "visibility": null,
            "align_self": null,
            "height": null,
            "min_height": null,
            "padding": null,
            "grid_auto_rows": null,
            "grid_gap": null,
            "max_width": null,
            "order": null,
            "_view_module_version": "1.2.0",
            "grid_template_areas": null,
            "object_position": null,
            "object_fit": null,
            "grid_auto_columns": null,
            "margin": null,
            "display": null,
            "left": null
          }
        },
        "12d4c6f4d5814469916e1f00e15c4e02": {
          "model_module": "@jupyter-widgets/controls",
          "model_name": "IntProgressModel",
          "state": {
            "_view_name": "ProgressView",
            "style": "IPY_MODEL_f043299cb2bd4b2e9b580b98fcd34ba3",
            "_dom_classes": [],
            "description": "Loss = 0.2351, 0.3349:  61%",
            "_model_name": "IntProgressModel",
            "bar_style": "",
            "max": 1000,
            "_view_module": "@jupyter-widgets/controls",
            "_model_module_version": "1.5.0",
            "value": 614,
            "_view_count": null,
            "_view_module_version": "1.5.0",
            "orientation": "horizontal",
            "min": 0,
            "description_tooltip": null,
            "_model_module": "@jupyter-widgets/controls",
            "layout": "IPY_MODEL_39595d01aa934d809e0279a47997f451"
          }
        },
        "f31fdfc31dc9469199d625d1390c2e8d": {
          "model_module": "@jupyter-widgets/controls",
          "model_name": "HTMLModel",
          "state": {
            "_view_name": "HTMLView",
            "style": "IPY_MODEL_939f423bc10340118f6b78963b83b16a",
            "_dom_classes": [],
            "description": "",
            "_model_name": "HTMLModel",
            "placeholder": "​",
            "_view_module": "@jupyter-widgets/controls",
            "_model_module_version": "1.5.0",
            "value": " 614/1000 [18:58&lt;11:56,  1.86s/it]",
            "_view_count": null,
            "_view_module_version": "1.5.0",
            "description_tooltip": null,
            "_model_module": "@jupyter-widgets/controls",
            "layout": "IPY_MODEL_ba3f266addce4d62884ad733d9c609ca"
          }
        },
        "f043299cb2bd4b2e9b580b98fcd34ba3": {
          "model_module": "@jupyter-widgets/controls",
          "model_name": "ProgressStyleModel",
          "state": {
            "_view_name": "StyleView",
            "_model_name": "ProgressStyleModel",
            "description_width": "initial",
            "_view_module": "@jupyter-widgets/base",
            "_model_module_version": "1.5.0",
            "_view_count": null,
            "_view_module_version": "1.2.0",
            "bar_color": null,
            "_model_module": "@jupyter-widgets/controls"
          }
        },
        "39595d01aa934d809e0279a47997f451": {
          "model_module": "@jupyter-widgets/base",
          "model_name": "LayoutModel",
          "state": {
            "_view_name": "LayoutView",
            "grid_template_rows": null,
            "right": null,
            "justify_content": null,
            "_view_module": "@jupyter-widgets/base",
            "overflow": null,
            "_model_module_version": "1.2.0",
            "_view_count": null,
            "flex_flow": null,
            "width": null,
            "min_width": null,
            "border": null,
            "align_items": null,
            "bottom": null,
            "_model_module": "@jupyter-widgets/base",
            "top": null,
            "grid_column": null,
            "overflow_y": null,
            "overflow_x": null,
            "grid_auto_flow": null,
            "grid_area": null,
            "grid_template_columns": null,
            "flex": null,
            "_model_name": "LayoutModel",
            "justify_items": null,
            "grid_row": null,
            "max_height": null,
            "align_content": null,
            "visibility": null,
            "align_self": null,
            "height": null,
            "min_height": null,
            "padding": null,
            "grid_auto_rows": null,
            "grid_gap": null,
            "max_width": null,
            "order": null,
            "_view_module_version": "1.2.0",
            "grid_template_areas": null,
            "object_position": null,
            "object_fit": null,
            "grid_auto_columns": null,
            "margin": null,
            "display": null,
            "left": null
          }
        },
        "939f423bc10340118f6b78963b83b16a": {
          "model_module": "@jupyter-widgets/controls",
          "model_name": "DescriptionStyleModel",
          "state": {
            "_view_name": "StyleView",
            "_model_name": "DescriptionStyleModel",
            "description_width": "",
            "_view_module": "@jupyter-widgets/base",
            "_model_module_version": "1.5.0",
            "_view_count": null,
            "_view_module_version": "1.2.0",
            "_model_module": "@jupyter-widgets/controls"
          }
        },
        "ba3f266addce4d62884ad733d9c609ca": {
          "model_module": "@jupyter-widgets/base",
          "model_name": "LayoutModel",
          "state": {
            "_view_name": "LayoutView",
            "grid_template_rows": null,
            "right": null,
            "justify_content": null,
            "_view_module": "@jupyter-widgets/base",
            "overflow": null,
            "_model_module_version": "1.2.0",
            "_view_count": null,
            "flex_flow": null,
            "width": null,
            "min_width": null,
            "border": null,
            "align_items": null,
            "bottom": null,
            "_model_module": "@jupyter-widgets/base",
            "top": null,
            "grid_column": null,
            "overflow_y": null,
            "overflow_x": null,
            "grid_auto_flow": null,
            "grid_area": null,
            "grid_template_columns": null,
            "flex": null,
            "_model_name": "LayoutModel",
            "justify_items": null,
            "grid_row": null,
            "max_height": null,
            "align_content": null,
            "visibility": null,
            "align_self": null,
            "height": null,
            "min_height": null,
            "padding": null,
            "grid_auto_rows": null,
            "grid_gap": null,
            "max_width": null,
            "order": null,
            "_view_module_version": "1.2.0",
            "grid_template_areas": null,
            "object_position": null,
            "object_fit": null,
            "grid_auto_columns": null,
            "margin": null,
            "display": null,
            "left": null
          }
        }
      }
    }
  },
  "cells": [
    {
      "cell_type": "markdown",
      "metadata": {
        "id": "uMI8pbhrKX_A",
        "colab_type": "text"
      },
      "source": [
        "#  BRATS 3D Unet\n",
        "\n",
        "The default network for 3D medical image segmentation is the 3D Unet\n"
      ]
    },
    {
      "cell_type": "code",
      "metadata": {
        "id": "zNF9bEhxGAnF",
        "colab_type": "code",
        "colab": {}
      },
      "source": [
        "%%capture \n",
        "\n",
        "!mkdir BRATS_dkfz\n",
        "\n",
        "\n",
        "!wget http://mia-software.artorg.unibe.ch/CAS_zips/dkfz_uint.zip \n",
        "\n",
        "\n",
        "\n",
        "!unzip 'dkfz_uint.zip' -d BRATS_dkfz\n",
        "\n",
        "!rm dkfz_uint.zip"
      ],
      "execution_count": 0,
      "outputs": []
    },
    {
      "cell_type": "markdown",
      "metadata": {
        "id": "m5QLvDCWkvjP",
        "colab_type": "text"
      },
      "source": [
        "We need some packages: batchgenerators (to build an efficient dataloader for 3D data with augmentations) and nnunet (to get a modern implementation of a 3D Unet, with patchwise application)"
      ]
    },
    {
      "cell_type": "code",
      "metadata": {
        "id": "XelXs5Fe9GLG",
        "colab_type": "code",
        "colab": {}
      },
      "source": [
        "%%capture \n",
        "\n",
        "\n",
        "!pip install --upgrade batchgenerators\n",
        "!pip install SimpleITK\n",
        "!pip install nnunet"
      ],
      "execution_count": 0,
      "outputs": []
    },
    {
      "cell_type": "code",
      "metadata": {
        "id": "p38n7In8jxlV",
        "colab_type": "code",
        "colab": {}
      },
      "source": [
        "#set this to True, if you want all the 3D image files to be loaded into memory\n",
        "IN_MEMORY = False\n",
        "\n",
        "#set this above zero to limit the number of training cases \n",
        "USE_TRAIN_CASES = 0\n",
        "\n",
        "#set this above zero to limit the number of validation cases (to make epochs faster)\n",
        "USE_VAL_CASES = 0\n",
        "\n",
        "#data loader/augmentation settings\n",
        "MAX_ROT_ANGLE = 15\n",
        "\n",
        "P_ROT = 0.0\n",
        "\n",
        "P_SCALE = 0.0\n",
        "\n",
        "P_EL = 0.0\n",
        "\n",
        "MAX_SHAPE = (192,192,192)\n",
        "\n",
        "NUM_THREADS = 2\n",
        "\n",
        "#training settings\n",
        "\n",
        "NUM_EPOCHS = 2\n",
        "\n",
        "BATCHES_PER_EPOCH = 1000\n",
        "\n",
        "DICE_WEIGHTING = 1.0\n",
        "\n",
        "OUTPUT_DIR = \"brats_2018_local\"\n",
        "\n",
        "PATCH_SIZE = (128, 128, 128)\n",
        "\n",
        "BATCH_SIZE = 2\n",
        "\n",
        "GRADIENT_MASK_ZERO_VOXELS = False\n"
      ],
      "execution_count": 0,
      "outputs": []
    },
    {
      "cell_type": "code",
      "metadata": {
        "id": "i9hU5hLsMFf7",
        "colab_type": "code",
        "colab": {}
      },
      "source": [
        "def get_gradient_mask(batch):\n",
        "  if GRADIENT_MASK_ZERO_VOXELS:\n",
        "    return (batch[:,0] != 0.0).astype(np.float)\n",
        "  else:\n",
        "    return (np.ones_like(batch[:,0])).astype(np.float)"
      ],
      "execution_count": 0,
      "outputs": []
    },
    {
      "cell_type": "code",
      "metadata": {
        "id": "qSzvRPBeSFru",
        "colab_type": "code",
        "outputId": "071152f9-6a5f-44c3-acc1-63750118e5a0",
        "colab": {
          "base_uri": "https://localhost:8080/",
          "height": 131
        }
      },
      "source": [
        "NUM_WORKERS = 4\n",
        "\n",
        "\n",
        "%matplotlib inline\n",
        "import matplotlib\n",
        "import matplotlib.pyplot as plt\n",
        "\n",
        "import numpy as np\n",
        "\n",
        "\n",
        "from time import time\n",
        "from batchgenerators.augmentations.crop_and_pad_augmentations import crop\n",
        "from batchgenerators.dataloading import MultiThreadedAugmenter\n",
        "from batchgenerators.transforms import Compose\n",
        "from batchgenerators.utilities.data_splitting import get_split_deterministic\n",
        "from batchgenerators.utilities.file_and_folder_operations import *\n",
        "from batchgenerators.dataloading.data_loader import DataLoader\n",
        "from batchgenerators.augmentations.utils import pad_nd_image\n",
        "from batchgenerators.transforms.spatial_transforms import SpatialTransform_2, MirrorTransform\n",
        "from batchgenerators.transforms.color_transforms import BrightnessMultiplicativeTransform, GammaTransform\n",
        "from batchgenerators.transforms.noise_transforms import GaussianNoiseTransform, GaussianBlurTransform\n",
        "\n",
        "\n",
        "import os\n",
        "import random\n",
        "from tqdm.notebook import tqdm\n",
        "\n",
        "#torch-related imports\n",
        "\n",
        "import torch\n",
        "import torch.nn as nn\n",
        "import torch.nn.functional as F\n",
        "import torch.optim as optim\n",
        "\n",
        "from torch.autograd import Variable, Function\n",
        "#from torch.nn import BCELoss, NLLLoss, BCEWithLogitsLoss, MSELoss, ModuleList, ReplicationPad2d\n",
        "#from torch.utils.data.sampler import Sampler, RandomSampler, WeightedRandomSampler, SequentialSampler\n",
        "#from torch._six import int_classes as _int_classes\n",
        "\n",
        "\n",
        "from torch.optim.lr_scheduler import CosineAnnealingLR, OneCycleLR\n",
        "\n",
        "from nnunet.network_architecture.generic_UNet import Generic_UNet\n",
        "\n",
        "\n",
        "\n"
      ],
      "execution_count": 0,
      "outputs": [
        {
          "output_type": "stream",
          "text": [
            "\n",
            "Please cite the following paper when using nnUNet:\n",
            "Fabian Isensee, Paul F. Jäger, Simon A. A. Kohl, Jens Petersen, Klaus H. Maier-Hein \"Automated Design of Deep Learning Methods for Biomedical Image Segmentation\" arXiv preprint arXiv:1904.08128 (2020).\n",
            "If you have questions or suggestions, feel free to open an issue at https://github.com/MIC-DKFZ/nnUNet\n",
            "\n"
          ],
          "name": "stdout"
        }
      ]
    },
    {
      "cell_type": "code",
      "metadata": {
        "id": "bHa8SOubC2yQ",
        "colab_type": "code",
        "colab": {}
      },
      "source": [
        "brats_preprocessed_folder = '/content/BRATS_dkfz'\n",
        "\n",
        "def get_list_of_patients(preprocessed_data_folder):\n",
        "    npy_files = subfiles(preprocessed_data_folder, suffix=\".npy\", join=True)\n",
        "    # remove npy file extension\n",
        "    patients = [i[:-4] for i in npy_files]\n",
        "    return patients\n",
        "\n",
        "patients = get_list_of_patients(brats_preprocessed_folder)\n",
        "\n",
        "train, val = get_split_deterministic(patients, fold=0, num_splits=5, random_state=12345)\n",
        "\n",
        "if USE_TRAIN_CASES != 0:\n",
        "  train = train[:USE_TRAIN_CASES]\n",
        "\n",
        "if USE_VAL_CASES != 0:\n",
        "  val = val[:USE_VAL_CASES]\n",
        "\n",
        "num_val_cases = len(val)\n",
        "\n",
        "num_train_cases = len(train)\n",
        "\n",
        "if IN_MEMORY:\n",
        "    patient_volumes = {x:np.load(x+'.npy') for x in patients}\n",
        "else:\n",
        "    patient_volumes = {x:np.load(x+'.npy', 'r') for x in patients}\n"
      ],
      "execution_count": 0,
      "outputs": []
    },
    {
      "cell_type": "code",
      "metadata": {
        "id": "bC2ZaH2fyfvV",
        "colab_type": "code",
        "colab": {}
      },
      "source": [
        " def load_patient(patient, axis = 'random'):\n",
        "        if axis=='random':\n",
        "          axis = np.random.choice(['axial', 'sagittal', 'coronal'])\n",
        "        \n",
        "        assert axis in ['axial', 'sagittal', 'coronal']\n",
        "\n",
        "\n",
        "        data = patient_volumes[patient]\n",
        "\n",
        "        if axis == 'coronal':\n",
        "          data = np.swapaxes(data, 1,2)\n",
        "\n",
        "        if axis == 'sagittal':\n",
        "          data = np.swapaxes(data, 1,3)\n",
        "        metadata = load_pickle(patient + \".pkl\")\n",
        "\n",
        "        return data, metadata\n",
        "\n",
        "class BraTS2017DataLoader3D(DataLoader):\n",
        "    def __init__(self, data, batch_size, patch_size, num_threads_in_multithreaded, seed_for_shuffle=1234,\n",
        "                 return_incomplete=False, shuffle=True, infinite=True):\n",
        "        \"\"\"\n",
        "        data must be a list of patients as returned by get_list_of_patients (and split by get_split_deterministic)\n",
        "        patch_size is the spatial size the retured batch will have\n",
        "        \"\"\"\n",
        "        super().__init__(data, batch_size, num_threads_in_multithreaded, seed_for_shuffle, return_incomplete, shuffle,\n",
        "                         infinite)\n",
        "        self.patch_size = patch_size\n",
        "        self.num_modalities = 4\n",
        "        self.indices = list(range(len(data)))\n",
        "\n",
        "    @staticmethod\n",
        "   \n",
        "\n",
        "    def generate_train_batch(self):\n",
        "        # DataLoader has its own methods for selecting what patients to use next, see its Documentation\n",
        "        idx = self.get_indices()\n",
        "        patients_for_batch = [self._data[i] for i in idx]\n",
        "\n",
        "        # initialize empty array for data and seg\n",
        "        data = np.zeros((self.batch_size, self.num_modalities, *self.patch_size), dtype=np.float32)\n",
        "        seg = np.zeros((self.batch_size, 1, *self.patch_size), dtype=np.float32)\n",
        "\n",
        "        metadata = []\n",
        "        patient_names = []\n",
        "\n",
        "        # iterate over patients_for_batch and include them in the batch\n",
        "        for i, j in enumerate(patients_for_batch):\n",
        "            patient_data, patient_metadata = self.load_patient(j)\n",
        "\n",
        "            patient_data = patient_data.astype(np.double)\n",
        "\n",
        "            # this will only pad patient_data if its shape is smaller than self.patch_size\n",
        "            patient_data = pad_nd_image(patient_data, self.patch_size)\n",
        "\n",
        "            # now random crop to self.patch_size\n",
        "            # crop expects the data to be (b, c, x, y, z) but patient_data is (c, x, y, z) so we need to add one\n",
        "            # dummy dimension in order for it to work (@Todo, could be improved)\n",
        "            patient_data, patient_seg = crop(patient_data[:-1][None], patient_data[-1:][None], self.patch_size, crop_type=\"random\")\n",
        "\n",
        "            zero_mask = patient_data == 0\n",
        "            patient_data = patient_data - np.array(patient_metadata['means'])[:,np.newaxis,np.newaxis,np.newaxis]\n",
        "            patient_data = patient_data/np.array(patient_metadata['sds'])[:,np.newaxis,np.newaxis,np.newaxis]\n",
        "\n",
        "            patient_data[zero_mask] = 0.0\n",
        "\n",
        "            data[i] = patient_data[0]\n",
        "            seg[i] = patient_seg[0]\n",
        "\n",
        "            metadata.append(patient_metadata)\n",
        "            patient_names.append(j)\n",
        "\n",
        "        return {'data': data, 'seg':seg, 'metadata':metadata, 'names':patient_names, }\n"
      ],
      "execution_count": 0,
      "outputs": []
    },
    {
      "cell_type": "code",
      "metadata": {
        "id": "kk2BppaRyVKz",
        "colab_type": "code",
        "colab": {}
      },
      "source": [
        "def get_train_transform(patch_size):\n",
        "    # we now create a list of transforms. These are not necessarily the best transforms to use for BraTS, this is just\n",
        "    # to showcase some things\n",
        "    tr_transforms = []\n",
        "\n",
        "    # the first thing we want to run is the SpatialTransform. It reduces the size of our data to patch_size and thus\n",
        "    # also reduces the computational cost of all subsequent operations. All subsequent operations do not modify the\n",
        "    # shape and do not transform spatially, so no border artifacts will be introduced\n",
        "    # Here we use the new SpatialTransform_2 which uses a new way of parameterizing elastic_deform\n",
        "    # We use all spatial transformations with a probability of 0.2 per sample. This means that 1 - (1 - 0.1) ** 3 = 27%\n",
        "    # of samples will be augmented, the rest will just be cropped\n",
        "    tr_transforms.append(\n",
        "        SpatialTransform_2(\n",
        "            patch_size, [i // 2 for i in patch_size],\n",
        "            do_elastic_deform=True, deformation_scale=(0, 0.25),\n",
        "            do_rotation=True,\n",
        "            angle_x=(- MAX_ROT_ANGLE  / 360. * 2 * np.pi, MAX_ROT_ANGLE  / 360. * 2 * np.pi),\n",
        "            angle_y=(- MAX_ROT_ANGLE  / 360. * 2 * np.pi, MAX_ROT_ANGLE  / 360. * 2 * np.pi),\n",
        "            angle_z=(- MAX_ROT_ANGLE  / 360. * 2 * np.pi, MAX_ROT_ANGLE  / 360. * 2 * np.pi),\n",
        "            do_scale=True, scale=(0.75, 1.25),\n",
        "            border_mode_data='constant', border_cval_data=0,\n",
        "            border_mode_seg='constant', border_cval_seg=0,\n",
        "            order_seg=1, order_data=3,\n",
        "            random_crop=True,\n",
        "            p_el_per_sample=P_EL, p_rot_per_sample=P_ROT, p_scale_per_sample=P_SCALE\n",
        "        )\n",
        "    )\n",
        "\n",
        "    # now we mirror along all axes\n",
        "    tr_transforms.append(MirrorTransform(axes=(0, 1, 2)))\n",
        "\n",
        "    # brightness transform for 15% of samples\n",
        "    tr_transforms.append(BrightnessMultiplicativeTransform((0.7, 1.5), per_channel=True, p_per_sample=0.15))\n",
        "\n",
        "    # gamma transform. This is a nonlinear transformation of intensity values\n",
        "    # (https://en.wikipedia.org/wiki/Gamma_correction)\n",
        "    tr_transforms.append(GammaTransform(gamma_range=(0.5, 2), invert_image=False, per_channel=True, p_per_sample=0.15))\n",
        "    \n",
        "  \n",
        "    # Gaussian Noise\n",
        "    #tr_transforms.append(GaussianNoiseTransform(noise_variance=(0, 0.05), p_per_sample=0.15))\n",
        "\n",
        "    # blurring. Some BraTS cases have very blurry modalities. This can simulate more patients with this problem and\n",
        "    # thus make the model more robust to it\n",
        "    tr_transforms.append(GaussianBlurTransform(blur_sigma=(0.5, 1.5), different_sigma_per_channel=True,\n",
        "                                               p_per_channel=0.5, p_per_sample=0.15))\n",
        "\n",
        "    # now we compose these transforms together\n",
        "    tr_transforms = Compose(tr_transforms)\n",
        "    return tr_transforms"
      ],
      "execution_count": 0,
      "outputs": []
    },
    {
      "cell_type": "code",
      "metadata": {
        "id": "Y6upuNfR8GR2",
        "colab_type": "code",
        "colab": {}
      },
      "source": [
        "\n",
        "\n",
        "\n",
        "\n",
        "# now we have some DataLoader. Let's go an get some augmentations\n",
        "\n",
        "# first let's collect all shapes, you will see why later\n",
        "\n",
        "\n",
        "# we create a new instance of DataLoader. This one will return batches of shape max_shape. Cropping/padding is\n",
        "# now done by SpatialTransform. If we do it this way we avoid border artifacts (the entire brain of all cases will\n",
        "# be in the batch and SpatialTransform will use zeros which is exactly what we have outside the brain)\n",
        "# this is viable here but not viable if you work with different data. If you work for example with CT scans that\n",
        "# can be up to 500x500x500 voxels large then you should do this differently. There, instead of using max_shape you\n",
        "# should estimate what shape you need to extract so that subsequent SpatialTransform does not introduce border\n",
        "# artifacts\n",
        "dataloader_train = BraTS2017DataLoader3D(train, BATCH_SIZE, MAX_SHAPE, NUM_THREADS)\n",
        "\n",
        "\n",
        "tr_transforms = get_train_transform(PATCH_SIZE)\n",
        "\n",
        "# finally we can create multithreaded transforms that we can actually use for training\n",
        "# we don't pin memory here because this is pytorch specific.\n",
        "tr_gen = MultiThreadedAugmenter(dataloader_train, tr_transforms, num_processes=NUM_THREADS,\n",
        "                                num_cached_per_queue=20,\n",
        "                                seeds=None, pin_memory=True)\n",
        "#\n",
        "\n",
        "\n",
        "tr_gen.restart()\n"
      ],
      "execution_count": 0,
      "outputs": []
    },
    {
      "cell_type": "code",
      "metadata": {
        "id": "41JVRuqSym0E",
        "colab_type": "code",
        "outputId": "b50e84bd-340c-42c7-9fd9-7c422d3b0c44",
        "colab": {
          "base_uri": "https://localhost:8080/",
          "height": 287
        }
      },
      "source": [
        "batch = tr_gen.next()\n",
        "image_data = batch['data']\n",
        "seg_data = batch['seg']\n",
        "plt.imshow(image_data[0,0, 64], cmap='gray')"
      ],
      "execution_count": 0,
      "outputs": [
        {
          "output_type": "execute_result",
          "data": {
            "text/plain": [
              "<matplotlib.image.AxesImage at 0x7fb5da47c5c0>"
            ]
          },
          "metadata": {
            "tags": []
          },
          "execution_count": 9
        },
        {
          "output_type": "display_data",
          "data": {
            "image/png": "[encoded data removed]",
            "text/plain": [
              "<Figure size 432x288 with 1 Axes>"
            ]
          },
          "metadata": {
            "tags": [],
            "needs_background": "light"
          }
        }
      ]
    },
    {
      "cell_type": "code",
      "metadata": {
        "id": "lMkEQiC4zLCM",
        "colab_type": "code",
        "outputId": "da62b493-6e92-4f74-d087-609b78c8e5a2",
        "colab": {
          "base_uri": "https://localhost:8080/",
          "height": 287
        }
      },
      "source": [
        "plt.imshow(image_data[0,2, 64], cmap='gray')"
      ],
      "execution_count": 0,
      "outputs": [
        {
          "output_type": "execute_result",
          "data": {
            "text/plain": [
              "<matplotlib.image.AxesImage at 0x7fb5da3d3a20>"
            ]
          },
          "metadata": {
            "tags": []
          },
          "execution_count": 10
        },
        {
          "output_type": "display_data",
          "data": {
            "image/png": "[encoded data removed]",
            "text/plain": [
              "<Figure size 432x288 with 1 Axes>"
            ]
          },
          "metadata": {
            "tags": [],
            "needs_background": "light"
          }
        }
      ]
    },
    {
      "cell_type": "code",
      "metadata": {
        "id": "tBIR6L8N6S0i",
        "colab_type": "code",
        "outputId": "720a3e08-a6a1-4840-c32b-72b0d009d30e",
        "colab": {
          "base_uri": "https://localhost:8080/",
          "height": 287
        }
      },
      "source": [
        "plt.imshow(seg_data[0,0, 64], cmap='gray')"
      ],
      "execution_count": 0,
      "outputs": [
        {
          "output_type": "execute_result",
          "data": {
            "text/plain": [
              "<matplotlib.image.AxesImage at 0x7fb5d9f37668>"
            ]
          },
          "metadata": {
            "tags": []
          },
          "execution_count": 11
        },
        {
          "output_type": "display_data",
          "data": {
            "image/png": "[encoded data removed]",
            "text/plain": [
              "<Figure size 432x288 with 1 Axes>"
            ]
          },
          "metadata": {
            "tags": [],
            "needs_background": "light"
          }
        }
      ]
    },
    {
      "cell_type": "code",
      "metadata": {
        "id": "kKIZ-Y61wwgK",
        "colab_type": "code",
        "outputId": "6a778e1a-f3dc-4cc0-c340-df4661c01197",
        "colab": {
          "base_uri": "https://localhost:8080/",
          "height": 73
        }
      },
      "source": [
        "\n",
        "target_label_sets = [ [3],\n",
        "                     [1,3],\n",
        "                     [1,2,3]\n",
        "                    ]\n",
        "target_label_names = ['enhancing', 'tumor_core', 'whole_tumor']\n",
        "\n",
        "assert len(target_label_names) == len(target_label_sets)\n",
        "\n",
        "\n",
        "\n",
        "\n",
        "total_with_gradient = 0\n",
        "\n",
        "total_positives = np.array([0,0,0])\n",
        "\n",
        "for case in train:\n",
        "\n",
        "\n",
        "  total_with_gradient += np.sum(get_gradient_mask(patient_volumes[case][np.newaxis]))\n",
        "\n",
        "  total_positives += [np.sum(np.isin(patient_volumes[case][-1], x)) for x in target_label_sets]\n",
        "\n",
        "label_prevalences = total_positives/total_with_gradient\n",
        "list(zip(label_prevalences,target_label_names))\n"
      ],
      "execution_count": 0,
      "outputs": [
        {
          "output_type": "execute_result",
          "data": {
            "text/plain": [
              "[(0.005920891170929659, 'enhancing'),\n",
              " (0.012426714782795903, 'tumor_core'),\n",
              " (0.030403128185577867, 'whole_tumor')]"
            ]
          },
          "metadata": {
            "tags": []
          },
          "execution_count": 13
        }
      ]
    },
    {
      "cell_type": "code",
      "metadata": {
        "id": "EbU4y41wMChd",
        "colab_type": "code",
        "colab": {}
      },
      "source": [
        "def make_target(gt):\n",
        "  return np.concatenate([np.isin(gt,labelset).astype(np.float) for labelset in target_label_sets], axis =1)\n"
      ],
      "execution_count": 0,
      "outputs": []
    },
    {
      "cell_type": "code",
      "metadata": {
        "id": "YjKivNn0yGc2",
        "colab_type": "code",
        "colab": {}
      },
      "source": [
        "class Average(object):\n",
        "    def __init__(self):\n",
        "        self.reset()\n",
        "\n",
        "    def reset(self):\n",
        "        self.sum = 0\n",
        "        self.count = 0\n",
        "\n",
        "    def update(self, val, n=1):\n",
        "        self.sum += val\n",
        "        self.count += n\n",
        "\n",
        "    @property\n",
        "    def avg(self):\n",
        "        return self.sum / self.count"
      ],
      "execution_count": 0,
      "outputs": []
    },
    {
      "cell_type": "code",
      "metadata": {
        "id": "TV59hh-nxU9U",
        "colab_type": "code",
        "colab": {}
      },
      "source": [
        "class BCE_from_logits(nn.modules.Module):\n",
        "    def __init__(self):\n",
        "        super(BCE_from_logits,self).__init__()\n",
        "    def forward(self, input, target):\n",
        "        #input = input.clamp(min = -1, max = 1)\n",
        "        max_val = (-input).clamp(min=0)\n",
        "        loss = input - input * target + max_val + ((-max_val).exp() + (-input - max_val).exp()).log()\n",
        "        return loss\n",
        "    \n",
        "class BCE_from_logits_focal(nn.modules.Module):\n",
        "    def __init__(self, gamma):\n",
        "        super(BCE_from_logits_focal,self).__init__()\n",
        "        self.gamma = gamma\n",
        "    def forward(self, input, target):\n",
        "        #input = input.clamp(min = -1, max = 1)\n",
        "        max_val = (-input).clamp(min=0)\n",
        "        loss = input - input * target + max_val + ((-max_val).exp() + (-input - max_val).exp()).log()\n",
        "        p = input.sigmoid()\n",
        "        pt = (1-p)*(1-target) + p*target\n",
        "        return ((1-pt).pow(self.gamma))*loss\n",
        "\n",
        "\n",
        "\n",
        "\n",
        "from nnunet.training.loss_functions.dice_loss import SoftDiceLossSquared\n",
        "\n",
        "dice_loss = SoftDiceLossSquared()\n"
      ],
      "execution_count": 0,
      "outputs": []
    },
    {
      "cell_type": "code",
      "metadata": {
        "id": "0-mQ4DIt81_u",
        "colab_type": "code",
        "colab": {}
      },
      "source": [
        "import os, sys\n",
        "#this helper function just redirects the print statments from nnUnet, which are quite verbose :-) \n",
        "class HiddenPrints:\n",
        "    def __enter__(self):\n",
        "        self._original_stdout = sys.stdout\n",
        "        sys.stdout = open(os.devnull, 'w')\n",
        "\n",
        "    def __exit__(self, exc_type, exc_val, exc_tb):\n",
        "        sys.stdout.close()\n",
        "        sys.stdout = self._original_stdout\n",
        "\n",
        "\n",
        "def apply_to_case(model, patient, soft_dice_weighting = 0, do_mirroring=False, patch_size=PATCH_SIZE, axes=['axial'], \n",
        "                 size=(192,192)):\n",
        "    model.eval()\n",
        "    with torch.no_grad():\n",
        "      volume_0 =  np.load(patient+'.npy')[0]\n",
        "\n",
        "\n",
        "      ensemble_flips = []\n",
        "      ensemble_logits = []\n",
        "\n",
        "      patient_data, patient_metadata = load_patient(patient, axis='axial')\n",
        "      masks = pad_nd_image(patient_data[-1],patch_size)\n",
        "      full_image =  pad_nd_image(patient_data[:-1],patch_size)\n",
        "      full_mask =  np.stack([np.isin(masks,labelset).astype(np.float) for labelset in target_label_sets], axis =0)\n",
        "      gradient_mask = get_gradient_mask(full_image[np.newaxis,:]).astype(np.uint8)[0]\n",
        "      for axis in axes:\n",
        "          \n",
        "          all_data, patient_metadata = load_patient(patient, axis=axis)\n",
        "          image_data =  pad_nd_image(all_data[:-1], patch_size)\n",
        "          zero_mask = (image_data != 0).astype(np.uint8)\n",
        "          image_data = image_data - np.array(patient_metadata['means'])[:,np.newaxis,np.newaxis,np.newaxis]\n",
        "          image_data = image_data/np.array(patient_metadata['sds'])[:,np.newaxis,np.newaxis,np.newaxis]\n",
        "\n",
        "          image_data = image_data * zero_mask\n",
        "          with HiddenPrints():\n",
        "            output = unet.predict_3D(torch.from_numpy(image_data),do_mirroring=do_mirroring, patch_size=patch_size,tiled=True)\n",
        "          \n",
        "          output = output[2]\n",
        "\n",
        "          if axis == 'coronal':\n",
        "              output = np.swapaxes(output, 1,2)\n",
        "\n",
        "          if axis == 'sagittal':\n",
        "              output = np.swapaxes(output, 1,3)\n",
        "          \n",
        "          ensemble_logits.append(output)\n",
        "\n",
        "\n",
        "\n",
        "          \n",
        "      full_logit = np.mean(np.array(ensemble_logits),axis=0)\n",
        "\n",
        "      full_logit = full_logit * np.expand_dims(gradient_mask,0)\n",
        "      \n",
        "      \n",
        "      TP = np.sum(np.logical_and(full_logit>0 , full_mask>0), axis=(1,2,3))\n",
        "      FP = np.sum(np.logical_and(full_logit>0 , full_mask==0), axis=(1,2,3))\n",
        "      FN = np.sum(np.logical_and(full_logit<0 , full_mask>0), axis=(1,2,3))\n",
        "      TN = np.sum(np.logical_and(full_logit<0 , full_mask==0), axis=(1,2,3))\n",
        "      \n",
        "\n",
        "      loss = BCE_from_logits()(torch.Tensor(full_logit), torch.Tensor(full_mask)).numpy()\n",
        "      \n",
        "      \n",
        "      soft_dice = dice_loss(torch.Tensor(full_mask).unsqueeze(0), torch.Tensor(full_logit).unsqueeze(0).sigmoid()).numpy()\n",
        "\n",
        "\n",
        "      \n",
        "      return full_image, full_mask, full_logit, loss, soft_dice, TP, FP, TN, FN"
      ],
      "execution_count": 0,
      "outputs": []
    },
    {
      "cell_type": "code",
      "metadata": {
        "id": "abqZLL5r9x9z",
        "colab_type": "code",
        "colab": {}
      },
      "source": [
        "def logistic(y):\n",
        "  return np.log(y/(1-y))\n",
        "\n",
        "def sigmoid(y):\n",
        "  return np.exp(y)/(1 + np.exp(y))"
      ],
      "execution_count": 0,
      "outputs": []
    },
    {
      "cell_type": "code",
      "metadata": {
        "id": "abALeyTgWNdL",
        "colab_type": "code",
        "colab": {}
      },
      "source": [
        "from torch.optim.lr_scheduler import _LRScheduler\n",
        "\n",
        "class ExponentialLR(_LRScheduler):\n",
        "    \"\"\"Exponentially increases the learning rate between two boundaries over a number of\n",
        "    iterations.\n",
        "    Arguments:\n",
        "        optimizer (torch.optim.Optimizer): wrapped optimizer.\n",
        "        end_lr (float): the final learning rate.\n",
        "        num_iter (int): the number of iterations over which the test occurs.\n",
        "        last_epoch (int, optional): the index of last epoch. Default: -1.\n",
        "\n",
        "        from https://github.com/davidtvs/pytorch-lr-finder/\n",
        "    \"\"\"\n",
        "\n",
        "    def __init__(self, optimizer, end_lr, num_iter, last_epoch=-1):\n",
        "        self.end_lr = end_lr\n",
        "        self.num_iter = num_iter\n",
        "        super(ExponentialLR, self).__init__(optimizer, last_epoch)\n",
        "\n",
        "    def get_lr(self):\n",
        "        curr_iter = self.last_epoch + 1\n",
        "        r = curr_iter / self.num_iter\n",
        "        return [base_lr * (self.end_lr / base_lr) ** r for base_lr in self.base_lrs]"
      ],
      "execution_count": 0,
      "outputs": []
    },
    {
      "cell_type": "code",
      "metadata": {
        "id": "VqElbhr196yF",
        "colab_type": "code",
        "colab": {}
      },
      "source": [
        "\n",
        "\n",
        "from sortedcontainers import SortedDict\n",
        "import shutil\n",
        "from sklearn.metrics import f1_score\n",
        "\n",
        "#folder = 'unet_brats_2018_{}/'.format(stack_depth)\n",
        "folder = OUTPUT_DIR + \"/\"\n",
        "avg_net = None\n",
        "\n",
        "import os\n",
        "if not os.path.exists(folder):\n",
        "    os.makedirs(folder)\n",
        "\n",
        "def save_checkpoint(state, epoch, permanent_save, filename=folder+'/checkpoint.pth.tar'):\n",
        "    torch.save(state, filename)\n",
        "    if permanent_save:\n",
        "        shutil.copyfile(filename, folder+str(epoch)+'_checkpoint.pth.tar')\n",
        "from tqdm import trange\n",
        "\n",
        "\n",
        "def train_unet(net = None,num_epochs = 50, batches_per_train_epoch = 20, num_val_cases = 1,\n",
        "                  dice_weighting = DICE_WEIGHTING, lr_max = 0.0001,\n",
        "                  lr_min = 0.00000001, scheduler = 'one-cycle', lr_find = False, lr_find_steps = 100, evaluate = True):\n",
        "    \n",
        "    optimizer = optim.Adam(net.parameters(), lr=lr_max, weight_decay=0.00001)\n",
        "    loader = tr_gen\n",
        "    epochs_this_run = 0\n",
        "\n",
        "    lr_history = []\n",
        "\n",
        "    loss_history = []\n",
        "\n",
        "    if lr_find:\n",
        "      num_epochs = 1\n",
        "      batches_per_train_epoch = lr_find_steps\n",
        "      evaluate = False\n",
        "\n",
        "\n",
        "    if lr_find:\n",
        "          for param_group in optimizer.param_groups:\n",
        "            param_group['lr'] = lr_min\n",
        "          schedule = ExponentialLR(optimizer, end_lr = lr_max, num_iter = lr_find_steps)\n",
        "    elif scheduler == 'cosine':\n",
        "          print('using per-epoch cosine annealing')\n",
        "          for param_group in optimizer.param_groups:\n",
        "            param_group['lr'] = lr_max\n",
        "          schedule = CosineAnnealingLR(optimizer, T_max = batches_per_train_epoch, eta_min=lr_min)\n",
        "    else:\n",
        "          print('using one-cycle')\n",
        "          div_factor = 25\n",
        "          for param_group in optimizer.param_groups:\n",
        "            param_group['lr'] = lr_max/25\n",
        "            schedule = OneCycleLR(optimizer, max_lr = lr_max, epochs = num_epochs, steps_per_epoch = batches_per_train_epoch, div_factor = 25)\n",
        "    for epoch in tqdm(range(0, num_epochs)):\n",
        "        \n",
        "        epochs_this_run = epochs_this_run+1\n",
        "\n",
        "        if scheduler == 'cosine':\n",
        "          for param_group in optimizer.param_groups:\n",
        "            param_group['lr'] = lr_max\n",
        "          schedule = CosineAnnealingLR(optimizer, T_max = batches_per_train_epoch, eta_min=lr_min)\n",
        "\n",
        "        train_loss = Average()\n",
        "        soft_dice_loss = Average()\n",
        "                \n",
        "        net.train()\n",
        "        t = tqdm(range(batches_per_train_epoch),leave=True)\n",
        "        for iter in  t:\n",
        "            lr_history.append(schedule.get_lr())\n",
        "            this_batch = tr_gen.next()\n",
        "            images = this_batch['data']\n",
        "            masks = this_batch['seg']\n",
        "\n",
        "            gradient_masks = get_gradient_mask(images)\n",
        "\n",
        "\n",
        "            masks = torch.from_numpy(make_target(masks))\n",
        "            images = torch.from_numpy(images)\n",
        "            gradient_masks = torch.from_numpy(gradient_masks)\n",
        "\n",
        "\n",
        "            optimizer.zero_grad()\n",
        "\n",
        "            outputs = net(Variable(images).cuda())\n",
        "\n",
        "            outputs = outputs[0]*gradient_masks.unsqueeze(1).cuda()\n",
        "\n",
        "            \n",
        "            total_loss = 0\n",
        "            \n",
        "\n",
        "            masks = (masks).cuda(async=True)\n",
        "            gradient_mask = (gradient_masks).cuda(async=True) \n",
        "\n",
        "\n",
        "\n",
        "            loss = BCE_from_logits()(outputs,masks.cuda())\n",
        "\n",
        "            soft_dice = 1 + dice_loss(masks.cuda(), outputs.sigmoid())\n",
        "\n",
        "            total_loss = loss.sum() \n",
        "\n",
        "\n",
        "            train_loss.update(total_loss.item(), torch.sum(gradient_mask != 0).item())\n",
        "            soft_dice_loss.update(soft_dice.item(), gradient_mask.shape[0])\n",
        "\n",
        "\n",
        "            eps=1e-10\n",
        "            total_loss = total_loss/(torch.sum(gradient_mask != 0.0) + eps) + soft_dice*dice_weighting\n",
        "            \n",
        "            outputs_prob = torch.sigmoid(outputs)\n",
        "\n",
        "            total_loss.backward()\n",
        "\n",
        "            optimizer.step()\n",
        "           # optimizer2.step()\n",
        "            train_loss.update(total_loss.item(), images.size(0))\n",
        "            loss_history.append(total_loss.item())\n",
        "\n",
        "            t.set_description(f'Loss = {train_loss.avg:.4f}, {soft_dice_loss.avg:.4f}')\n",
        "            schedule.step()\n",
        "                        \n",
        "        \n",
        "        #loss = (criterion(outputs, masks)[0] +(-logit_flip).exp()[0]).data.cpu().numpy()\n",
        "        \n",
        "        all_dices = []\n",
        "\n",
        "        if evaluate:\n",
        "          val_loss = Average()\n",
        "\n",
        "          val_dice_loss = Average()\n",
        "          \n",
        "          \n",
        "          val_dice = [Average() for x in target_label_sets]\n",
        "          \n",
        "          net.eval()\n",
        "          \n",
        "          \n",
        "          result_summary = list()\n",
        "\n",
        "          all_dices = []\n",
        "          for case in tqdm(range(num_val_cases), leave=False): \n",
        "              patient = val[case]\n",
        "              full_image, full_mask, full_logit, losses, val_dice_loss, TP, FP, TN, FN = apply_to_case(net,patient=patient,\n",
        "                                                                        axes=['axial','sagittal','coronal'])\n",
        "              \n",
        "              total_voxels = np.prod(np.load(patient+'.npy').shape)\n",
        "              \n",
        "              vloss = np.sum(losses) \n",
        "              \n",
        "              \n",
        "              vloss = vloss/total_voxels\n",
        "              val_loss.update(vloss, 1)\n",
        "              \n",
        "\n",
        "              epsilon = 0.000001\n",
        "              dices = (2*TP+epsilon)/(2*TP+FP+FN+epsilon)\n",
        "\n",
        "\n",
        "              all_dices.append(dices)\n",
        "        \n",
        "          print(np.mean(all_dices, 0))           \n",
        "    return net, all_dices, lr_history, loss_history"
      ],
      "execution_count": 0,
      "outputs": []
    },
    {
      "cell_type": "code",
      "metadata": {
        "id": "Dvr_1ieTbbDU",
        "colab_type": "code",
        "outputId": "886c59c9-73b6-41bb-ca53-06f40a7607bc",
        "colab": {
          "base_uri": "https://localhost:8080/",
          "height": 36
        }
      },
      "source": [
        "num_val_cases"
      ],
      "execution_count": 0,
      "outputs": [
        {
          "output_type": "execute_result",
          "data": {
            "text/plain": [
              "67"
            ]
          },
          "metadata": {
            "tags": []
          },
          "execution_count": 21
        }
      ]
    },
    {
      "cell_type": "code",
      "metadata": {
        "id": "fcPG1nulBOoi",
        "colab_type": "code",
        "outputId": "627a80ad-e65b-4bb8-e93d-1d3aca5ea9cd",
        "colab": {
          "base_uri": "https://localhost:8080/",
          "height": 36
        }
      },
      "source": [
        "unet = Generic_UNet(input_channels=4, base_num_features=12, num_classes=3, num_pool=4, num_conv_per_stage=2,\n",
        "                 feat_map_mul_on_downscale=2, conv_op=nn.Conv3d,\n",
        "                 norm_op=nn.InstanceNorm3d, norm_op_kwargs=None,\n",
        "                 dropout_op=nn.Dropout3d, dropout_op_kwargs=None,\n",
        "                 nonlin=nn.LeakyReLU,deep_supervision=False,final_nonlin = nn.Identity(), seg_output_use_bias=True)\n",
        "\n",
        "pytorch_total_params = sum(np.fromiter((p.numel() for p in unet.parameters()), int))\n",
        "print(pytorch_total_params)\n",
        "\n",
        "unet = unet.cuda()\n",
        "\n",
        "pi = np.array(label_prevalences)\n",
        "\n",
        "new_bias = torch.from_numpy(-np.log(((1-pi)/pi)))\n",
        "\n",
        "\n",
        "unet.seg_outputs[-1].bias = torch.nn.Parameter(new_bias.float().cuda())\n",
        "\n",
        "\n"
      ],
      "execution_count": 0,
      "outputs": [
        {
          "output_type": "stream",
          "text": [
            "2321616\n"
          ],
          "name": "stdout"
        }
      ]
    },
    {
      "cell_type": "code",
      "metadata": {
        "id": "FldagST4Ubkd",
        "colab_type": "code",
        "outputId": "70355e93-ddd9-4629-ddf7-0a2ab0a2ca39",
        "colab": {
          "base_uri": "https://localhost:8080/",
          "height": 55
        }
      },
      "source": [
        "unet.seg_outputs[3].bias"
      ],
      "execution_count": 0,
      "outputs": [
        {
          "output_type": "execute_result",
          "data": {
            "text/plain": [
              "Parameter containing:\n",
              "tensor([-5.1233, -4.3754, -3.4623], device='cuda:0', requires_grad=True)"
            ]
          },
          "metadata": {
            "tags": []
          },
          "execution_count": 23
        }
      ]
    },
    {
      "cell_type": "code",
      "metadata": {
        "id": "8486UOQeYUZ1",
        "colab_type": "code",
        "outputId": "ad77551f-005f-4dc3-8be9-e29920491f08",
        "colab": {
          "base_uri": "https://localhost:8080/",
          "height": 119,
          "referenced_widgets": [
            "4dc77eb57457480588401ba15acd5993",
            "2d736bbda71a4e3999e674116e0fb3d6",
            "7133a517c6b84e7e878e8f753577787f",
            "7ee0920aa5014554bb782395ad95e79a",
            "9bc51b9001c04aaead308765d0f058f9",
            "a9c7f218dd794372b7e7b7eb40457db3",
            "fbc2db6c2af044d8b9da527316cf9866",
            "67628bb0cbb44616a6b4502b616f678e",
            "0f3bbdf39bbd4d2499490542b4128d56",
            "1961aad29b81417ab8c94c3c28dff992",
            "9fc6e020c174419899f6bc9a90ef248f",
            "d8778e9990134da68c146add256181bd",
            "b468b5b2c054445ebaaadce412d204c3",
            "0ca6f41133644fd5a61cb72c23355bc3",
            "62da93d15f8c411fbef9003620efbb17",
            "6081b5a0c8f24ab78ee92c5515c6848a"
          ]
        }
      },
      "source": [
        "tr_gen.restart()\n",
        "\n",
        "net, dices, lr_history, loss_history = train_unet(unet, NUM_EPOCHS,batches_per_train_epoch=1000, dice_weighting = DICE_WEIGHTING, lr_max=1e-1, lr_min=1e-8, \n",
        "                            lr_find = True, lr_find_steps = 500)"
      ],
      "execution_count": 0,
      "outputs": [
        {
          "output_type": "display_data",
          "data": {
            "application/vnd.jupyter.widget-view+json": {
              "model_id": "4dc77eb57457480588401ba15acd5993",
              "version_minor": 0,
              "version_major": 2
            },
            "text/plain": [
              "HBox(children=(IntProgress(value=0, max=1), HTML(value='')))"
            ]
          },
          "metadata": {
            "tags": []
          }
        },
        {
          "output_type": "display_data",
          "data": {
            "application/vnd.jupyter.widget-view+json": {
              "model_id": "0f3bbdf39bbd4d2499490542b4128d56",
              "version_minor": 0,
              "version_major": 2
            },
            "text/plain": [
              "HBox(children=(IntProgress(value=0, max=500), HTML(value='')))"
            ]
          },
          "metadata": {
            "tags": []
          }
        },
        {
          "output_type": "stream",
          "text": [
            "\n",
            "\n"
          ],
          "name": "stdout"
        }
      ]
    },
    {
      "cell_type": "code",
      "metadata": {
        "id": "Nx-dnt73iqA9",
        "colab_type": "code",
        "outputId": "bcf64765-3f15-423c-af6d-4a652ad6428c",
        "colab": {
          "base_uri": "https://localhost:8080/",
          "height": 288
        }
      },
      "source": [
        "from scipy.ndimage.filters import gaussian_filter1d\n",
        "\n",
        "ysmoothed = gaussian_filter1d(loss_history, sigma=8)\n",
        "\n",
        "\n",
        "\n",
        "plt.plot(lr_history, ysmoothed)\n",
        "plt.xscale('log')\n",
        "plt.ylim(np.min(ysmoothed),1.2*ysmoothed[0])"
      ],
      "execution_count": 0,
      "outputs": [
        {
          "output_type": "execute_result",
          "data": {
            "text/plain": [
              "(0.9351805374595602, 1.4495551744036284)"
            ]
          },
          "metadata": {
            "tags": []
          },
          "execution_count": 25
        },
        {
          "output_type": "display_data",
          "data": {
            "image/png": "[encoded data removed]",
            "text/plain": [
              "<Figure size 432x288 with 1 Axes>"
            ]
          },
          "metadata": {
            "tags": [],
            "needs_background": "light"
          }
        }
      ]
    },
    {
      "cell_type": "code",
      "metadata": {
        "id": "6vvRmw62cmxL",
        "colab_type": "code",
        "outputId": "26428cd7-0e66-4dad-d789-79aa9e27837f",
        "colab": {
          "base_uri": "https://localhost:8080/",
          "height": 308,
          "referenced_widgets": [
            "68efc454ac4f47bdacc731d5129c9f0c",
            "50a4a5ab89d742ca84fddea28bdfb3a6",
            "dea36a38f5484b23bd5d41a4701853a6",
            "323fb17f5f4a47088ce9938da0de49a2",
            "cfb3e240ce144213937ea541344ae738",
            "4435f6c9f50141cfb3b5e5c30dab1390",
            "262abad2ce3d468397ec43d880b8c590",
            "d4826303d3e543e5aecac7a4b9f87b6c",
            "e32339102cee4873a203f58142a0ecee",
            "43be77cb4b9f40cca2fc2bc986afa855",
            "a963f997f0be47fdafd3e9e1548d5020",
            "d92d6105b0d2457799be99f4979666bf",
            "bd788f1df3b74cde9fbbbcd39f51d71b",
            "ab379de78b014759992de7df6d3768d3",
            "c2008662b5214874866dbf65f09bebe7",
            "4234a191fdf04762ba7da91aa41ae87e",
            "121401862f224b0891650ac02482b6ce",
            "a8ceffe1aa784f3fb5b6ecce62d5a3fa",
            "63c9864ebcb045b09d9fcd8450f135f6",
            "1a1b3e0285724c3b8c5210db68969df5",
            "f235534be0914215be8b3f1dd0f9c169",
            "66e76fe832f64ffdafe89c60c52a1fd5",
            "76af2609b65641fd9a5d3cae14218910",
            "d9a7a542406944fe9192fc097f7bb26a",
            "b8b6272c47d949d08cd99d3ef94e5077",
            "5c4cc5772f9c4eb59066880580f6a479",
            "41178bf2ecce4cd1b44231872f35378c",
            "9b4a1f42eb484ce7ba36ed865f2a82ba",
            "4ffae21ba9e449c7912688fee831f0b1",
            "24ff2dfae825499eaaeb7732e116703d",
            "e24c75ff40754335bcf99ac12f9e13e8",
            "5ff7f3345b4b488f8c97f5c40fb82cb9",
            "7fd3de6c6bca49389ae8664007549db5",
            "0de051d4416840f9b467981b714d2368",
            "c476e22ee80d43d3babcf71e244e4413",
            "c368cef2ad484d368bb86f4c27a57468",
            "3a729f17edbe4cd1939b41a83808cda6",
            "dff55718d2a248ffb0209633b9acc813",
            "8af8c6138c134e4081efdb72cb40a1c2",
            "a8f3cb30367c40dabcdd9799521bc2ff",
            "e015313942934d7c85bcab7802faf6dd",
            "5de2cf3cc95a4335b538cb4e2430b54b",
            "7357a0d5d16d447ea29d6885fa135c7b",
            "acbd238880954b2d8db12aedb5956942",
            "fb73d0a801ee436e8f7106996c1bda53",
            "f9fed06bd023442c8fc0063df96b4303",
            "262971d3ac5e4f078457068485b78ed9",
            "88feca8b6412419088febd6b2fcc2bc3",
            "743f3ee472534e94841980d695c3c858",
            "da4b0935f3f948de89a781805d78e4d4",
            "bbb7522f2aa943d3a069b6dab9b3f99e",
            "841015ae13924877a69942aed8d561ac",
            "d0ce7254f0f742c8990ac5e7689d4f46",
            "f3d90da2a0df4df8bdb7980fe3de4e34",
            "95b6d1464f9a447f821bb2fd9a7bfb96",
            "43d0bcdb7b6f4e8d9a320093701f51a6",
            "1289cda9c77e4103ac3e15cb20fe93e8",
            "a2e6943a36124f569eb06a9fbdc2e9ff",
            "12d4c6f4d5814469916e1f00e15c4e02",
            "f31fdfc31dc9469199d625d1390c2e8d",
            "f043299cb2bd4b2e9b580b98fcd34ba3",
            "39595d01aa934d809e0279a47997f451",
            "939f423bc10340118f6b78963b83b16a",
            "ba3f266addce4d62884ad733d9c609ca"
          ]
        }
      },
      "source": [
        "tr_gen.restart()\n",
        "\n",
        "NUM_EPOCHS=4\n",
        "\n",
        "net, dices, lr_history, loss_history = train_unet(unet, NUM_EPOCHS,batches_per_train_epoch=BATCHES_PER_EPOCH, dice_weighting = DICE_WEIGHTING, lr_max=1e-3,scheduler = 'one_cycle', num_val_cases = num_val_cases)"
      ],
      "execution_count": 0,
      "outputs": [
        {
          "output_type": "stream",
          "text": [
            "using one-cycle\n"
          ],
          "name": "stdout"
        },
        {
          "output_type": "display_data",
          "data": {
            "application/vnd.jupyter.widget-view+json": {
              "model_id": "68efc454ac4f47bdacc731d5129c9f0c",
              "version_minor": 0,
              "version_major": 2
            },
            "text/plain": [
              "HBox(children=(IntProgress(value=0, max=4), HTML(value='')))"
            ]
          },
          "metadata": {
            "tags": []
          }
        },
        {
          "output_type": "display_data",
          "data": {
            "application/vnd.jupyter.widget-view+json": {
              "model_id": "e32339102cee4873a203f58142a0ecee",
              "version_minor": 0,
              "version_major": 2
            },
            "text/plain": [
              "HBox(children=(IntProgress(value=0, max=1000), HTML(value='')))"
            ]
          },
          "metadata": {
            "tags": []
          }
        },
        {
          "output_type": "stream",
          "text": [
            "\n"
          ],
          "name": "stdout"
        },
        {
          "output_type": "display_data",
          "data": {
            "application/vnd.jupyter.widget-view+json": {
              "model_id": "121401862f224b0891650ac02482b6ce",
              "version_minor": 0,
              "version_major": 2
            },
            "text/plain": [
              "HBox(children=(IntProgress(value=0, max=67), HTML(value='')))"
            ]
          },
          "metadata": {
            "tags": []
          }
        },
        {
          "output_type": "stream",
          "text": [
            "[0.4934235  0.5056152  0.65169086]\n"
          ],
          "name": "stdout"
        },
        {
          "output_type": "display_data",
          "data": {
            "application/vnd.jupyter.widget-view+json": {
              "model_id": "b8b6272c47d949d08cd99d3ef94e5077",
              "version_minor": 0,
              "version_major": 2
            },
            "text/plain": [
              "HBox(children=(IntProgress(value=0, max=1000), HTML(value='')))"
            ]
          },
          "metadata": {
            "tags": []
          }
        },
        {
          "output_type": "stream",
          "text": [
            "\n"
          ],
          "name": "stdout"
        },
        {
          "output_type": "display_data",
          "data": {
            "application/vnd.jupyter.widget-view+json": {
              "model_id": "7fd3de6c6bca49389ae8664007549db5",
              "version_minor": 0,
              "version_major": 2
            },
            "text/plain": [
              "HBox(children=(IntProgress(value=0, max=67), HTML(value='')))"
            ]
          },
          "metadata": {
            "tags": []
          }
        },
        {
          "output_type": "stream",
          "text": [
            "[0.53988136 0.51159949 0.71834195]\n"
          ],
          "name": "stdout"
        },
        {
          "output_type": "display_data",
          "data": {
            "application/vnd.jupyter.widget-view+json": {
              "model_id": "e015313942934d7c85bcab7802faf6dd",
              "version_minor": 0,
              "version_major": 2
            },
            "text/plain": [
              "HBox(children=(IntProgress(value=0, max=1000), HTML(value='')))"
            ]
          },
          "metadata": {
            "tags": []
          }
        },
        {
          "output_type": "stream",
          "text": [
            "\n"
          ],
          "name": "stdout"
        },
        {
          "output_type": "display_data",
          "data": {
            "application/vnd.jupyter.widget-view+json": {
              "model_id": "743f3ee472534e94841980d695c3c858",
              "version_minor": 0,
              "version_major": 2
            },
            "text/plain": [
              "HBox(children=(IntProgress(value=0, max=67), HTML(value='')))"
            ]
          },
          "metadata": {
            "tags": []
          }
        },
        {
          "output_type": "stream",
          "text": [
            "[0.542679   0.48563476 0.71801875]\n"
          ],
          "name": "stdout"
        },
        {
          "output_type": "display_data",
          "data": {
            "application/vnd.jupyter.widget-view+json": {
              "model_id": "1289cda9c77e4103ac3e15cb20fe93e8",
              "version_minor": 0,
              "version_major": 2
            },
            "text/plain": [
              "HBox(children=(IntProgress(value=0, max=1000), HTML(value='')))"
            ]
          },
          "metadata": {
            "tags": []
          }
        }
      ]
    }
  ]
}